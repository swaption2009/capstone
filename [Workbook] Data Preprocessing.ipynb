{
 "cells": [
  {
   "cell_type": "markdown",
   "metadata": {},
   "source": [
    "## Project Intro: Intel Lab Data"
   ]
  },
  {
   "cell_type": "markdown",
   "metadata": {},
   "source": [
    "This notebook contains information about data collected from 54 sensors deployed in the Intel Berkeley Research lab between February 28th and April 5th, 2004.\n",
    "\n",
    "`Mica2Dot` sensors with weather boards collected timestamped topology information, along with humidity, temperature, light and voltage values once every 31 seconds.\n",
    "\n",
    "Source: http://db.csail.mit.edu/labdata/labdata.html"
   ]
  },
  {
   "cell_type": "markdown",
   "metadata": {},
   "source": [
    "## Import Libraries"
   ]
  },
  {
   "cell_type": "code",
   "execution_count": 1,
   "metadata": {},
   "outputs": [],
   "source": [
    "%load_ext autoreload\n",
    "%autoreload 2"
   ]
  },
  {
   "cell_type": "code",
   "execution_count": 2,
   "metadata": {},
   "outputs": [],
   "source": [
    "import pandas as pd\n",
    "import numpy as np\n",
    "import matplotlib.pyplot as plt\n",
    "\n",
    "import pyarrow as pa\n",
    "import pyarrow.parquet as pq"
   ]
  },
  {
   "cell_type": "markdown",
   "metadata": {},
   "source": [
    "## Dataset #1: Sensor Data"
   ]
  },
  {
   "cell_type": "code",
   "execution_count": 3,
   "metadata": {},
   "outputs": [
    {
     "data": {
      "text/html": [
       "<div>\n",
       "<style scoped>\n",
       "    .dataframe tbody tr th:only-of-type {\n",
       "        vertical-align: middle;\n",
       "    }\n",
       "\n",
       "    .dataframe tbody tr th {\n",
       "        vertical-align: top;\n",
       "    }\n",
       "\n",
       "    .dataframe thead th {\n",
       "        text-align: right;\n",
       "    }\n",
       "</style>\n",
       "<table border=\"1\" class=\"dataframe\">\n",
       "  <thead>\n",
       "    <tr style=\"text-align: right;\">\n",
       "      <th></th>\n",
       "      <th>date</th>\n",
       "      <th>time</th>\n",
       "      <th>epoch</th>\n",
       "      <th>mote_id</th>\n",
       "      <th>temperature</th>\n",
       "      <th>humidity</th>\n",
       "      <th>light</th>\n",
       "      <th>voltage</th>\n",
       "    </tr>\n",
       "  </thead>\n",
       "  <tbody>\n",
       "    <tr>\n",
       "      <th>0</th>\n",
       "      <td>2004-03-31</td>\n",
       "      <td>03:38:15.757551</td>\n",
       "      <td>2</td>\n",
       "      <td>1.0</td>\n",
       "      <td>122.1530</td>\n",
       "      <td>-3.91901</td>\n",
       "      <td>11.04</td>\n",
       "      <td>2.03397</td>\n",
       "    </tr>\n",
       "    <tr>\n",
       "      <th>1</th>\n",
       "      <td>2004-02-28</td>\n",
       "      <td>00:59:16.02785</td>\n",
       "      <td>3</td>\n",
       "      <td>1.0</td>\n",
       "      <td>19.9884</td>\n",
       "      <td>37.09330</td>\n",
       "      <td>45.08</td>\n",
       "      <td>2.69964</td>\n",
       "    </tr>\n",
       "    <tr>\n",
       "      <th>2</th>\n",
       "      <td>2004-02-28</td>\n",
       "      <td>01:03:16.33393</td>\n",
       "      <td>11</td>\n",
       "      <td>1.0</td>\n",
       "      <td>19.3024</td>\n",
       "      <td>38.46290</td>\n",
       "      <td>45.08</td>\n",
       "      <td>2.68742</td>\n",
       "    </tr>\n",
       "    <tr>\n",
       "      <th>3</th>\n",
       "      <td>2004-02-28</td>\n",
       "      <td>01:06:16.013453</td>\n",
       "      <td>17</td>\n",
       "      <td>1.0</td>\n",
       "      <td>19.1652</td>\n",
       "      <td>38.80390</td>\n",
       "      <td>45.08</td>\n",
       "      <td>2.68742</td>\n",
       "    </tr>\n",
       "    <tr>\n",
       "      <th>4</th>\n",
       "      <td>2004-02-28</td>\n",
       "      <td>01:06:46.778088</td>\n",
       "      <td>18</td>\n",
       "      <td>1.0</td>\n",
       "      <td>19.1750</td>\n",
       "      <td>38.83790</td>\n",
       "      <td>45.08</td>\n",
       "      <td>2.69964</td>\n",
       "    </tr>\n",
       "  </tbody>\n",
       "</table>\n",
       "</div>"
      ],
      "text/plain": [
       "         date             time  epoch  mote_id  temperature  humidity  light  \\\n",
       "0  2004-03-31  03:38:15.757551      2      1.0     122.1530  -3.91901  11.04   \n",
       "1  2004-02-28   00:59:16.02785      3      1.0      19.9884  37.09330  45.08   \n",
       "2  2004-02-28   01:03:16.33393     11      1.0      19.3024  38.46290  45.08   \n",
       "3  2004-02-28  01:06:16.013453     17      1.0      19.1652  38.80390  45.08   \n",
       "4  2004-02-28  01:06:46.778088     18      1.0      19.1750  38.83790  45.08   \n",
       "\n",
       "   voltage  \n",
       "0  2.03397  \n",
       "1  2.69964  \n",
       "2  2.68742  \n",
       "3  2.68742  \n",
       "4  2.69964  "
      ]
     },
     "execution_count": 3,
     "metadata": {},
     "output_type": "execute_result"
    }
   ],
   "source": [
    "sensor_data = pd.read_csv('data/data.txt', sep=\" \", header=None)\n",
    "sensor_data.columns = ['date', 'time', 'epoch', 'mote_id', 'temperature', 'humidity', 'light', 'voltage']\n",
    "sensor_data.head()"
   ]
  },
  {
   "cell_type": "markdown",
   "metadata": {},
   "source": [
    "### Add datetime column"
   ]
  },
  {
   "cell_type": "code",
   "execution_count": 4,
   "metadata": {},
   "outputs": [
    {
     "data": {
      "text/html": [
       "<div>\n",
       "<style scoped>\n",
       "    .dataframe tbody tr th:only-of-type {\n",
       "        vertical-align: middle;\n",
       "    }\n",
       "\n",
       "    .dataframe tbody tr th {\n",
       "        vertical-align: top;\n",
       "    }\n",
       "\n",
       "    .dataframe thead th {\n",
       "        text-align: right;\n",
       "    }\n",
       "</style>\n",
       "<table border=\"1\" class=\"dataframe\">\n",
       "  <thead>\n",
       "    <tr style=\"text-align: right;\">\n",
       "      <th></th>\n",
       "      <th>date</th>\n",
       "      <th>time</th>\n",
       "      <th>epoch</th>\n",
       "      <th>mote_id</th>\n",
       "      <th>temperature</th>\n",
       "      <th>humidity</th>\n",
       "      <th>light</th>\n",
       "      <th>voltage</th>\n",
       "      <th>datetime</th>\n",
       "    </tr>\n",
       "  </thead>\n",
       "  <tbody>\n",
       "    <tr>\n",
       "      <th>0</th>\n",
       "      <td>2004-03-31</td>\n",
       "      <td>03:38:15.757551</td>\n",
       "      <td>2</td>\n",
       "      <td>1.0</td>\n",
       "      <td>122.1530</td>\n",
       "      <td>-3.91901</td>\n",
       "      <td>11.04</td>\n",
       "      <td>2.03397</td>\n",
       "      <td>2004-03-31 03:38:15</td>\n",
       "    </tr>\n",
       "    <tr>\n",
       "      <th>1</th>\n",
       "      <td>2004-02-28</td>\n",
       "      <td>00:59:16.02785</td>\n",
       "      <td>3</td>\n",
       "      <td>1.0</td>\n",
       "      <td>19.9884</td>\n",
       "      <td>37.09330</td>\n",
       "      <td>45.08</td>\n",
       "      <td>2.69964</td>\n",
       "      <td>2004-02-28 00:59:16</td>\n",
       "    </tr>\n",
       "    <tr>\n",
       "      <th>2</th>\n",
       "      <td>2004-02-28</td>\n",
       "      <td>01:03:16.33393</td>\n",
       "      <td>11</td>\n",
       "      <td>1.0</td>\n",
       "      <td>19.3024</td>\n",
       "      <td>38.46290</td>\n",
       "      <td>45.08</td>\n",
       "      <td>2.68742</td>\n",
       "      <td>2004-02-28 01:03:16</td>\n",
       "    </tr>\n",
       "    <tr>\n",
       "      <th>3</th>\n",
       "      <td>2004-02-28</td>\n",
       "      <td>01:06:16.013453</td>\n",
       "      <td>17</td>\n",
       "      <td>1.0</td>\n",
       "      <td>19.1652</td>\n",
       "      <td>38.80390</td>\n",
       "      <td>45.08</td>\n",
       "      <td>2.68742</td>\n",
       "      <td>2004-02-28 01:06:16</td>\n",
       "    </tr>\n",
       "    <tr>\n",
       "      <th>4</th>\n",
       "      <td>2004-02-28</td>\n",
       "      <td>01:06:46.778088</td>\n",
       "      <td>18</td>\n",
       "      <td>1.0</td>\n",
       "      <td>19.1750</td>\n",
       "      <td>38.83790</td>\n",
       "      <td>45.08</td>\n",
       "      <td>2.69964</td>\n",
       "      <td>2004-02-28 01:06:46</td>\n",
       "    </tr>\n",
       "  </tbody>\n",
       "</table>\n",
       "</div>"
      ],
      "text/plain": [
       "         date             time  epoch  mote_id  temperature  humidity  light  \\\n",
       "0  2004-03-31  03:38:15.757551      2      1.0     122.1530  -3.91901  11.04   \n",
       "1  2004-02-28   00:59:16.02785      3      1.0      19.9884  37.09330  45.08   \n",
       "2  2004-02-28   01:03:16.33393     11      1.0      19.3024  38.46290  45.08   \n",
       "3  2004-02-28  01:06:16.013453     17      1.0      19.1652  38.80390  45.08   \n",
       "4  2004-02-28  01:06:46.778088     18      1.0      19.1750  38.83790  45.08   \n",
       "\n",
       "   voltage            datetime  \n",
       "0  2.03397 2004-03-31 03:38:15  \n",
       "1  2.69964 2004-02-28 00:59:16  \n",
       "2  2.68742 2004-02-28 01:03:16  \n",
       "3  2.68742 2004-02-28 01:06:16  \n",
       "4  2.69964 2004-02-28 01:06:46  "
      ]
     },
     "execution_count": 4,
     "metadata": {},
     "output_type": "execute_result"
    }
   ],
   "source": [
    "sensor_data['datetime'] = sensor_data['date'] + ' ' + sensor_data['time']\n",
    "sensor_data['datetime'] = pd.to_datetime(sensor_data['datetime'])\n",
    "sensor_data['datetime'] = sensor_data['datetime'].values.astype('<M8[s]')\n",
    "sensor_data.head()"
   ]
  },
  {
   "cell_type": "markdown",
   "metadata": {},
   "source": [
    "### Inspect sensor data"
   ]
  },
  {
   "cell_type": "code",
   "execution_count": 5,
   "metadata": {},
   "outputs": [
    {
     "name": "stdout",
     "output_type": "stream",
     "text": [
      "<class 'pandas.core.frame.DataFrame'>\n",
      "RangeIndex: 2313682 entries, 0 to 2313681\n",
      "Data columns (total 9 columns):\n",
      "date           object\n",
      "time           object\n",
      "epoch          int64\n",
      "mote_id        float64\n",
      "temperature    float64\n",
      "humidity       float64\n",
      "light          float64\n",
      "voltage        float64\n",
      "datetime       datetime64[ns]\n",
      "dtypes: datetime64[ns](1), float64(5), int64(1), object(2)\n",
      "memory usage: 158.9+ MB\n"
     ]
    }
   ],
   "source": [
    "sensor_data.info()"
   ]
  },
  {
   "cell_type": "code",
   "execution_count": 6,
   "metadata": {},
   "outputs": [
    {
     "data": {
      "text/html": [
       "<div>\n",
       "<style scoped>\n",
       "    .dataframe tbody tr th:only-of-type {\n",
       "        vertical-align: middle;\n",
       "    }\n",
       "\n",
       "    .dataframe tbody tr th {\n",
       "        vertical-align: top;\n",
       "    }\n",
       "\n",
       "    .dataframe thead th {\n",
       "        text-align: right;\n",
       "    }\n",
       "</style>\n",
       "<table border=\"1\" class=\"dataframe\">\n",
       "  <thead>\n",
       "    <tr style=\"text-align: right;\">\n",
       "      <th></th>\n",
       "      <th>temperature</th>\n",
       "      <th>humidity</th>\n",
       "      <th>light</th>\n",
       "      <th>voltage</th>\n",
       "    </tr>\n",
       "  </thead>\n",
       "  <tbody>\n",
       "    <tr>\n",
       "      <th>count</th>\n",
       "      <td>2.312781e+06</td>\n",
       "      <td>2.312780e+06</td>\n",
       "      <td>2.219804e+06</td>\n",
       "      <td>2.313156e+06</td>\n",
       "    </tr>\n",
       "    <tr>\n",
       "      <th>mean</th>\n",
       "      <td>3.920700e+01</td>\n",
       "      <td>3.390814e+01</td>\n",
       "      <td>4.072110e+02</td>\n",
       "      <td>2.492552e+00</td>\n",
       "    </tr>\n",
       "    <tr>\n",
       "      <th>std</th>\n",
       "      <td>3.741923e+01</td>\n",
       "      <td>1.732152e+01</td>\n",
       "      <td>5.394276e+02</td>\n",
       "      <td>1.795743e-01</td>\n",
       "    </tr>\n",
       "    <tr>\n",
       "      <th>min</th>\n",
       "      <td>-3.840000e+01</td>\n",
       "      <td>-8.983130e+03</td>\n",
       "      <td>0.000000e+00</td>\n",
       "      <td>9.100830e-03</td>\n",
       "    </tr>\n",
       "    <tr>\n",
       "      <th>25%</th>\n",
       "      <td>2.040980e+01</td>\n",
       "      <td>3.187760e+01</td>\n",
       "      <td>3.956000e+01</td>\n",
       "      <td>2.385220e+00</td>\n",
       "    </tr>\n",
       "    <tr>\n",
       "      <th>50%</th>\n",
       "      <td>2.243840e+01</td>\n",
       "      <td>3.928030e+01</td>\n",
       "      <td>1.582400e+02</td>\n",
       "      <td>2.527320e+00</td>\n",
       "    </tr>\n",
       "    <tr>\n",
       "      <th>75%</th>\n",
       "      <td>2.702480e+01</td>\n",
       "      <td>4.358550e+01</td>\n",
       "      <td>5.372800e+02</td>\n",
       "      <td>2.627960e+00</td>\n",
       "    </tr>\n",
       "    <tr>\n",
       "      <th>max</th>\n",
       "      <td>3.855680e+02</td>\n",
       "      <td>1.375120e+02</td>\n",
       "      <td>1.847360e+03</td>\n",
       "      <td>1.856000e+01</td>\n",
       "    </tr>\n",
       "  </tbody>\n",
       "</table>\n",
       "</div>"
      ],
      "text/plain": [
       "        temperature      humidity         light       voltage\n",
       "count  2.312781e+06  2.312780e+06  2.219804e+06  2.313156e+06\n",
       "mean   3.920700e+01  3.390814e+01  4.072110e+02  2.492552e+00\n",
       "std    3.741923e+01  1.732152e+01  5.394276e+02  1.795743e-01\n",
       "min   -3.840000e+01 -8.983130e+03  0.000000e+00  9.100830e-03\n",
       "25%    2.040980e+01  3.187760e+01  3.956000e+01  2.385220e+00\n",
       "50%    2.243840e+01  3.928030e+01  1.582400e+02  2.527320e+00\n",
       "75%    2.702480e+01  4.358550e+01  5.372800e+02  2.627960e+00\n",
       "max    3.855680e+02  1.375120e+02  1.847360e+03  1.856000e+01"
      ]
     },
     "execution_count": 6,
     "metadata": {},
     "output_type": "execute_result"
    }
   ],
   "source": [
    "sensor_data[['temperature', 'humidity', 'light', 'voltage']].describe()"
   ]
  },
  {
   "cell_type": "code",
   "execution_count": 7,
   "metadata": {},
   "outputs": [
    {
     "data": {
      "text/plain": [
       "date           0.0\n",
       "time           0.0\n",
       "epoch          0.0\n",
       "mote_id        0.0\n",
       "temperature    0.0\n",
       "humidity       0.0\n",
       "light          0.0\n",
       "voltage        0.0\n",
       "datetime       0.0\n",
       "dtype: float64"
      ]
     },
     "execution_count": 7,
     "metadata": {},
     "output_type": "execute_result"
    }
   ],
   "source": [
    "sensor_data[sensor_data.duplicated() == True].sum()"
   ]
  },
  {
   "cell_type": "code",
   "execution_count": 8,
   "metadata": {},
   "outputs": [
    {
     "data": {
      "text/plain": [
       "date               0\n",
       "time               0\n",
       "epoch              0\n",
       "mote_id          526\n",
       "temperature      901\n",
       "humidity         902\n",
       "light          93878\n",
       "voltage          526\n",
       "datetime           0\n",
       "dtype: int64"
      ]
     },
     "execution_count": 8,
     "metadata": {},
     "output_type": "execute_result"
    }
   ],
   "source": [
    "sensor_data.isna().sum()"
   ]
  },
  {
   "cell_type": "code",
   "execution_count": 9,
   "metadata": {},
   "outputs": [
    {
     "data": {
      "text/plain": [
       "date           0\n",
       "time           0\n",
       "epoch          0\n",
       "mote_id        0\n",
       "temperature    0\n",
       "humidity       0\n",
       "light          0\n",
       "voltage        0\n",
       "datetime       0\n",
       "dtype: int64"
      ]
     },
     "execution_count": 9,
     "metadata": {},
     "output_type": "execute_result"
    }
   ],
   "source": [
    "sensor_data.dropna(inplace=True)\n",
    "sensor_data.isna().sum()"
   ]
  },
  {
   "cell_type": "code",
   "execution_count": 10,
   "metadata": {},
   "outputs": [
    {
     "data": {
      "text/html": [
       "<div>\n",
       "<style scoped>\n",
       "    .dataframe tbody tr th:only-of-type {\n",
       "        vertical-align: middle;\n",
       "    }\n",
       "\n",
       "    .dataframe tbody tr th {\n",
       "        vertical-align: top;\n",
       "    }\n",
       "\n",
       "    .dataframe thead th {\n",
       "        text-align: right;\n",
       "    }\n",
       "</style>\n",
       "<table border=\"1\" class=\"dataframe\">\n",
       "  <thead>\n",
       "    <tr style=\"text-align: right;\">\n",
       "      <th></th>\n",
       "      <th>date</th>\n",
       "      <th>time</th>\n",
       "      <th>epoch</th>\n",
       "      <th>mote_id</th>\n",
       "      <th>temperature</th>\n",
       "      <th>humidity</th>\n",
       "      <th>light</th>\n",
       "      <th>voltage</th>\n",
       "      <th>datetime</th>\n",
       "    </tr>\n",
       "  </thead>\n",
       "  <tbody>\n",
       "    <tr>\n",
       "      <th>2313148</th>\n",
       "      <td>2004-04-02</td>\n",
       "      <td>09:06:21.488182</td>\n",
       "      <td>62421</td>\n",
       "      <td>58.0</td>\n",
       "      <td>24.1730</td>\n",
       "      <td>21.6575</td>\n",
       "      <td>1729.60</td>\n",
       "      <td>2.78836</td>\n",
       "      <td>2004-04-02 09:06:21</td>\n",
       "    </tr>\n",
       "    <tr>\n",
       "      <th>2313149</th>\n",
       "      <td>2004-04-02</td>\n",
       "      <td>09:07:22.173243</td>\n",
       "      <td>62423</td>\n",
       "      <td>58.0</td>\n",
       "      <td>24.1436</td>\n",
       "      <td>21.7310</td>\n",
       "      <td>1729.60</td>\n",
       "      <td>2.78836</td>\n",
       "      <td>2004-04-02 09:07:22</td>\n",
       "    </tr>\n",
       "    <tr>\n",
       "      <th>2313150</th>\n",
       "      <td>2004-04-02</td>\n",
       "      <td>09:07:52.31387</td>\n",
       "      <td>62424</td>\n",
       "      <td>58.0</td>\n",
       "      <td>24.1436</td>\n",
       "      <td>21.6575</td>\n",
       "      <td>1670.72</td>\n",
       "      <td>2.78836</td>\n",
       "      <td>2004-04-02 09:07:52</td>\n",
       "    </tr>\n",
       "    <tr>\n",
       "      <th>2313151</th>\n",
       "      <td>2004-04-02</td>\n",
       "      <td>09:08:52.189274</td>\n",
       "      <td>62426</td>\n",
       "      <td>58.0</td>\n",
       "      <td>24.1240</td>\n",
       "      <td>21.5839</td>\n",
       "      <td>1670.72</td>\n",
       "      <td>2.78836</td>\n",
       "      <td>2004-04-02 09:08:52</td>\n",
       "    </tr>\n",
       "    <tr>\n",
       "      <th>2313152</th>\n",
       "      <td>2004-04-02</td>\n",
       "      <td>09:09:22.206544</td>\n",
       "      <td>62427</td>\n",
       "      <td>58.0</td>\n",
       "      <td>24.1044</td>\n",
       "      <td>21.4367</td>\n",
       "      <td>1729.60</td>\n",
       "      <td>2.78836</td>\n",
       "      <td>2004-04-02 09:09:22</td>\n",
       "    </tr>\n",
       "  </tbody>\n",
       "</table>\n",
       "</div>"
      ],
      "text/plain": [
       "               date             time  epoch  mote_id  temperature  humidity  \\\n",
       "2313148  2004-04-02  09:06:21.488182  62421     58.0      24.1730   21.6575   \n",
       "2313149  2004-04-02  09:07:22.173243  62423     58.0      24.1436   21.7310   \n",
       "2313150  2004-04-02   09:07:52.31387  62424     58.0      24.1436   21.6575   \n",
       "2313151  2004-04-02  09:08:52.189274  62426     58.0      24.1240   21.5839   \n",
       "2313152  2004-04-02  09:09:22.206544  62427     58.0      24.1044   21.4367   \n",
       "\n",
       "           light  voltage            datetime  \n",
       "2313148  1729.60  2.78836 2004-04-02 09:06:21  \n",
       "2313149  1729.60  2.78836 2004-04-02 09:07:22  \n",
       "2313150  1670.72  2.78836 2004-04-02 09:07:52  \n",
       "2313151  1670.72  2.78836 2004-04-02 09:08:52  \n",
       "2313152  1729.60  2.78836 2004-04-02 09:09:22  "
      ]
     },
     "execution_count": 10,
     "metadata": {},
     "output_type": "execute_result"
    }
   ],
   "source": [
    "sensor_data.tail()"
   ]
  },
  {
   "cell_type": "code",
   "execution_count": 11,
   "metadata": {},
   "outputs": [
    {
     "data": {
      "text/plain": [
       "(2219803, 9)"
      ]
     },
     "execution_count": 11,
     "metadata": {},
     "output_type": "execute_result"
    }
   ],
   "source": [
    "sensor_data.shape"
   ]
  },
  {
   "cell_type": "markdown",
   "metadata": {},
   "source": [
    "## Dataset #2: Sensor Location"
   ]
  },
  {
   "cell_type": "code",
   "execution_count": 12,
   "metadata": {},
   "outputs": [
    {
     "data": {
      "text/html": [
       "<div>\n",
       "<style scoped>\n",
       "    .dataframe tbody tr th:only-of-type {\n",
       "        vertical-align: middle;\n",
       "    }\n",
       "\n",
       "    .dataframe tbody tr th {\n",
       "        vertical-align: top;\n",
       "    }\n",
       "\n",
       "    .dataframe thead th {\n",
       "        text-align: right;\n",
       "    }\n",
       "</style>\n",
       "<table border=\"1\" class=\"dataframe\">\n",
       "  <thead>\n",
       "    <tr style=\"text-align: right;\">\n",
       "      <th></th>\n",
       "      <th>0</th>\n",
       "      <th>1</th>\n",
       "      <th>2</th>\n",
       "    </tr>\n",
       "  </thead>\n",
       "  <tbody>\n",
       "    <tr>\n",
       "      <th>0</th>\n",
       "      <td>1</td>\n",
       "      <td>21.5</td>\n",
       "      <td>23</td>\n",
       "    </tr>\n",
       "    <tr>\n",
       "      <th>1</th>\n",
       "      <td>2</td>\n",
       "      <td>24.5</td>\n",
       "      <td>20</td>\n",
       "    </tr>\n",
       "    <tr>\n",
       "      <th>2</th>\n",
       "      <td>3</td>\n",
       "      <td>19.5</td>\n",
       "      <td>19</td>\n",
       "    </tr>\n",
       "    <tr>\n",
       "      <th>3</th>\n",
       "      <td>4</td>\n",
       "      <td>22.5</td>\n",
       "      <td>15</td>\n",
       "    </tr>\n",
       "    <tr>\n",
       "      <th>4</th>\n",
       "      <td>5</td>\n",
       "      <td>24.5</td>\n",
       "      <td>12</td>\n",
       "    </tr>\n",
       "  </tbody>\n",
       "</table>\n",
       "</div>"
      ],
      "text/plain": [
       "   0     1   2\n",
       "0  1  21.5  23\n",
       "1  2  24.5  20\n",
       "2  3  19.5  19\n",
       "3  4  22.5  15\n",
       "4  5  24.5  12"
      ]
     },
     "execution_count": 12,
     "metadata": {},
     "output_type": "execute_result"
    }
   ],
   "source": [
    "sensor_locs = pd.read_csv('data/mote_locs.txt', sep=\" \", header=None)\n",
    "sensor_locs.head()"
   ]
  },
  {
   "cell_type": "code",
   "execution_count": 13,
   "metadata": {},
   "outputs": [
    {
     "data": {
      "text/html": [
       "<div>\n",
       "<style scoped>\n",
       "    .dataframe tbody tr th:only-of-type {\n",
       "        vertical-align: middle;\n",
       "    }\n",
       "\n",
       "    .dataframe tbody tr th {\n",
       "        vertical-align: top;\n",
       "    }\n",
       "\n",
       "    .dataframe thead th {\n",
       "        text-align: right;\n",
       "    }\n",
       "</style>\n",
       "<table border=\"1\" class=\"dataframe\">\n",
       "  <thead>\n",
       "    <tr style=\"text-align: right;\">\n",
       "      <th></th>\n",
       "      <th>mote_id</th>\n",
       "      <th>x_coord</th>\n",
       "      <th>y_coord</th>\n",
       "    </tr>\n",
       "  </thead>\n",
       "  <tbody>\n",
       "    <tr>\n",
       "      <th>0</th>\n",
       "      <td>1</td>\n",
       "      <td>21.5</td>\n",
       "      <td>23</td>\n",
       "    </tr>\n",
       "    <tr>\n",
       "      <th>1</th>\n",
       "      <td>2</td>\n",
       "      <td>24.5</td>\n",
       "      <td>20</td>\n",
       "    </tr>\n",
       "    <tr>\n",
       "      <th>2</th>\n",
       "      <td>3</td>\n",
       "      <td>19.5</td>\n",
       "      <td>19</td>\n",
       "    </tr>\n",
       "    <tr>\n",
       "      <th>3</th>\n",
       "      <td>4</td>\n",
       "      <td>22.5</td>\n",
       "      <td>15</td>\n",
       "    </tr>\n",
       "    <tr>\n",
       "      <th>4</th>\n",
       "      <td>5</td>\n",
       "      <td>24.5</td>\n",
       "      <td>12</td>\n",
       "    </tr>\n",
       "  </tbody>\n",
       "</table>\n",
       "</div>"
      ],
      "text/plain": [
       "   mote_id  x_coord  y_coord\n",
       "0        1     21.5       23\n",
       "1        2     24.5       20\n",
       "2        3     19.5       19\n",
       "3        4     22.5       15\n",
       "4        5     24.5       12"
      ]
     },
     "execution_count": 13,
     "metadata": {},
     "output_type": "execute_result"
    }
   ],
   "source": [
    "sensor_locs.columns = ['mote_id', 'x_coord', 'y_coord']\n",
    "sensor_locs.head()"
   ]
  },
  {
   "cell_type": "code",
   "execution_count": 14,
   "metadata": {},
   "outputs": [
    {
     "name": "stdout",
     "output_type": "stream",
     "text": [
      "<class 'pandas.core.frame.DataFrame'>\n",
      "RangeIndex: 54 entries, 0 to 53\n",
      "Data columns (total 3 columns):\n",
      "mote_id    54 non-null int64\n",
      "x_coord    54 non-null float64\n",
      "y_coord    54 non-null int64\n",
      "dtypes: float64(1), int64(2)\n",
      "memory usage: 1.4 KB\n"
     ]
    }
   ],
   "source": [
    "sensor_locs.info()"
   ]
  },
  {
   "cell_type": "code",
   "execution_count": 15,
   "metadata": {},
   "outputs": [
    {
     "name": "stdout",
     "output_type": "stream",
     "text": [
      "<class 'pandas.core.frame.DataFrame'>\n",
      "RangeIndex: 54 entries, 0 to 53\n",
      "Data columns (total 3 columns):\n",
      "mote_id    54 non-null float64\n",
      "x_coord    54 non-null float64\n",
      "y_coord    54 non-null int64\n",
      "dtypes: float64(2), int64(1)\n",
      "memory usage: 1.4 KB\n"
     ]
    }
   ],
   "source": [
    "sensor_locs['mote_id'] = sensor_locs['mote_id'].astype(float)\n",
    "sensor_locs.info()"
   ]
  },
  {
   "cell_type": "markdown",
   "metadata": {},
   "source": [
    "### Inspect sensor location data"
   ]
  },
  {
   "cell_type": "code",
   "execution_count": 16,
   "metadata": {},
   "outputs": [
    {
     "data": {
      "text/plain": [
       "54"
      ]
     },
     "execution_count": 16,
     "metadata": {},
     "output_type": "execute_result"
    }
   ],
   "source": [
    "sensor_locs['mote_id'].nunique()"
   ]
  },
  {
   "cell_type": "code",
   "execution_count": 17,
   "metadata": {},
   "outputs": [
    {
     "data": {
      "text/plain": [
       "mote_id    0\n",
       "x_coord    0\n",
       "y_coord    0\n",
       "dtype: int64"
      ]
     },
     "execution_count": 17,
     "metadata": {},
     "output_type": "execute_result"
    }
   ],
   "source": [
    "sensor_locs.isna().sum()"
   ]
  },
  {
   "cell_type": "code",
   "execution_count": 18,
   "metadata": {},
   "outputs": [
    {
     "data": {
      "text/plain": [
       "0"
      ]
     },
     "execution_count": 18,
     "metadata": {},
     "output_type": "execute_result"
    }
   ],
   "source": [
    "sensor_locs.duplicated().sum()"
   ]
  },
  {
   "cell_type": "markdown",
   "metadata": {},
   "source": [
    "### Combine dataset #1 and #2"
   ]
  },
  {
   "cell_type": "code",
   "execution_count": 19,
   "metadata": {},
   "outputs": [
    {
     "data": {
      "text/html": [
       "<div>\n",
       "<style scoped>\n",
       "    .dataframe tbody tr th:only-of-type {\n",
       "        vertical-align: middle;\n",
       "    }\n",
       "\n",
       "    .dataframe tbody tr th {\n",
       "        vertical-align: top;\n",
       "    }\n",
       "\n",
       "    .dataframe thead th {\n",
       "        text-align: right;\n",
       "    }\n",
       "</style>\n",
       "<table border=\"1\" class=\"dataframe\">\n",
       "  <thead>\n",
       "    <tr style=\"text-align: right;\">\n",
       "      <th></th>\n",
       "      <th>date</th>\n",
       "      <th>time</th>\n",
       "      <th>epoch</th>\n",
       "      <th>mote_id</th>\n",
       "      <th>temperature</th>\n",
       "      <th>humidity</th>\n",
       "      <th>light</th>\n",
       "      <th>voltage</th>\n",
       "      <th>datetime</th>\n",
       "      <th>x_coord</th>\n",
       "      <th>y_coord</th>\n",
       "    </tr>\n",
       "  </thead>\n",
       "  <tbody>\n",
       "    <tr>\n",
       "      <th>2215464</th>\n",
       "      <td>2004-04-04</td>\n",
       "      <td>16:21:06.290436</td>\n",
       "      <td>1611</td>\n",
       "      <td>58.0</td>\n",
       "      <td>23.9378</td>\n",
       "      <td>34.6403</td>\n",
       "      <td>86.48</td>\n",
       "      <td>2.59354</td>\n",
       "      <td>2004-04-04 16:21:06</td>\n",
       "      <td>NaN</td>\n",
       "      <td>NaN</td>\n",
       "    </tr>\n",
       "    <tr>\n",
       "      <th>2215465</th>\n",
       "      <td>2004-04-04</td>\n",
       "      <td>16:21:32.802969</td>\n",
       "      <td>1612</td>\n",
       "      <td>58.0</td>\n",
       "      <td>23.9280</td>\n",
       "      <td>34.6403</td>\n",
       "      <td>86.48</td>\n",
       "      <td>2.60491</td>\n",
       "      <td>2004-04-04 16:21:32</td>\n",
       "      <td>NaN</td>\n",
       "      <td>NaN</td>\n",
       "    </tr>\n",
       "    <tr>\n",
       "      <th>2215466</th>\n",
       "      <td>2004-04-04</td>\n",
       "      <td>20:54:11.616528</td>\n",
       "      <td>1613</td>\n",
       "      <td>58.0</td>\n",
       "      <td>21.6348</td>\n",
       "      <td>37.1963</td>\n",
       "      <td>3.22</td>\n",
       "      <td>2.56000</td>\n",
       "      <td>2004-04-04 20:54:11</td>\n",
       "      <td>NaN</td>\n",
       "      <td>NaN</td>\n",
       "    </tr>\n",
       "    <tr>\n",
       "      <th>2215467</th>\n",
       "      <td>2004-04-05</td>\n",
       "      <td>10:33:26.112499</td>\n",
       "      <td>1619</td>\n",
       "      <td>58.0</td>\n",
       "      <td>25.1040</td>\n",
       "      <td>33.6302</td>\n",
       "      <td>104.88</td>\n",
       "      <td>2.56000</td>\n",
       "      <td>2004-04-05 10:33:26</td>\n",
       "      <td>NaN</td>\n",
       "      <td>NaN</td>\n",
       "    </tr>\n",
       "    <tr>\n",
       "      <th>2215468</th>\n",
       "      <td>2004-04-05</td>\n",
       "      <td>10:33:51.519477</td>\n",
       "      <td>1620</td>\n",
       "      <td>58.0</td>\n",
       "      <td>25.1236</td>\n",
       "      <td>33.6302</td>\n",
       "      <td>86.48</td>\n",
       "      <td>2.56000</td>\n",
       "      <td>2004-04-05 10:33:51</td>\n",
       "      <td>NaN</td>\n",
       "      <td>NaN</td>\n",
       "    </tr>\n",
       "  </tbody>\n",
       "</table>\n",
       "</div>"
      ],
      "text/plain": [
       "               date             time  epoch  mote_id  temperature  humidity  \\\n",
       "2215464  2004-04-04  16:21:06.290436   1611     58.0      23.9378   34.6403   \n",
       "2215465  2004-04-04  16:21:32.802969   1612     58.0      23.9280   34.6403   \n",
       "2215466  2004-04-04  20:54:11.616528   1613     58.0      21.6348   37.1963   \n",
       "2215467  2004-04-05  10:33:26.112499   1619     58.0      25.1040   33.6302   \n",
       "2215468  2004-04-05  10:33:51.519477   1620     58.0      25.1236   33.6302   \n",
       "\n",
       "          light  voltage            datetime  x_coord  y_coord  \n",
       "2215464   86.48  2.59354 2004-04-04 16:21:06      NaN      NaN  \n",
       "2215465   86.48  2.60491 2004-04-04 16:21:32      NaN      NaN  \n",
       "2215466    3.22  2.56000 2004-04-04 20:54:11      NaN      NaN  \n",
       "2215467  104.88  2.56000 2004-04-05 10:33:26      NaN      NaN  \n",
       "2215468   86.48  2.56000 2004-04-05 10:33:51      NaN      NaN  "
      ]
     },
     "execution_count": 19,
     "metadata": {},
     "output_type": "execute_result"
    }
   ],
   "source": [
    "sensor_signals = sensor_data.merge(sensor_locs, how='left', left_on='mote_id', right_on='mote_id')\n",
    "sensor_signals.sort_values(['mote_id', 'datetime'], inplace=True)\n",
    "sensor_signals.tail()"
   ]
  },
  {
   "cell_type": "code",
   "execution_count": 20,
   "metadata": {},
   "outputs": [],
   "source": [
    "sensor_signals.dropna(inplace=True)"
   ]
  },
  {
   "cell_type": "code",
   "execution_count": 21,
   "metadata": {},
   "outputs": [
    {
     "data": {
      "text/plain": [
       "date           0\n",
       "time           0\n",
       "epoch          0\n",
       "mote_id        0\n",
       "temperature    0\n",
       "humidity       0\n",
       "light          0\n",
       "voltage        0\n",
       "datetime       0\n",
       "x_coord        0\n",
       "y_coord        0\n",
       "dtype: int64"
      ]
     },
     "execution_count": 21,
     "metadata": {},
     "output_type": "execute_result"
    }
   ],
   "source": [
    "sensor_signals.isna().sum()"
   ]
  },
  {
   "cell_type": "code",
   "execution_count": 22,
   "metadata": {},
   "outputs": [
    {
     "data": {
      "text/html": [
       "<div>\n",
       "<style scoped>\n",
       "    .dataframe tbody tr th:only-of-type {\n",
       "        vertical-align: middle;\n",
       "    }\n",
       "\n",
       "    .dataframe tbody tr th {\n",
       "        vertical-align: top;\n",
       "    }\n",
       "\n",
       "    .dataframe thead th {\n",
       "        text-align: right;\n",
       "    }\n",
       "</style>\n",
       "<table border=\"1\" class=\"dataframe\">\n",
       "  <thead>\n",
       "    <tr style=\"text-align: right;\">\n",
       "      <th></th>\n",
       "      <th>mote_id</th>\n",
       "      <th>temperature</th>\n",
       "      <th>humidity</th>\n",
       "      <th>light</th>\n",
       "      <th>voltage</th>\n",
       "      <th>datetime</th>\n",
       "      <th>x_coord</th>\n",
       "      <th>y_coord</th>\n",
       "      <th>year</th>\n",
       "      <th>month</th>\n",
       "    </tr>\n",
       "  </thead>\n",
       "  <tbody>\n",
       "    <tr>\n",
       "      <th>1</th>\n",
       "      <td>1.0</td>\n",
       "      <td>19.9884</td>\n",
       "      <td>37.0933</td>\n",
       "      <td>45.08</td>\n",
       "      <td>2.69964</td>\n",
       "      <td>2004-02-28 00:59:16</td>\n",
       "      <td>21.5</td>\n",
       "      <td>23.0</td>\n",
       "      <td>2004</td>\n",
       "      <td>2</td>\n",
       "    </tr>\n",
       "    <tr>\n",
       "      <th>2</th>\n",
       "      <td>1.0</td>\n",
       "      <td>19.3024</td>\n",
       "      <td>38.4629</td>\n",
       "      <td>45.08</td>\n",
       "      <td>2.68742</td>\n",
       "      <td>2004-02-28 01:03:16</td>\n",
       "      <td>21.5</td>\n",
       "      <td>23.0</td>\n",
       "      <td>2004</td>\n",
       "      <td>2</td>\n",
       "    </tr>\n",
       "    <tr>\n",
       "      <th>3</th>\n",
       "      <td>1.0</td>\n",
       "      <td>19.1652</td>\n",
       "      <td>38.8039</td>\n",
       "      <td>45.08</td>\n",
       "      <td>2.68742</td>\n",
       "      <td>2004-02-28 01:06:16</td>\n",
       "      <td>21.5</td>\n",
       "      <td>23.0</td>\n",
       "      <td>2004</td>\n",
       "      <td>2</td>\n",
       "    </tr>\n",
       "    <tr>\n",
       "      <th>4</th>\n",
       "      <td>1.0</td>\n",
       "      <td>19.1750</td>\n",
       "      <td>38.8379</td>\n",
       "      <td>45.08</td>\n",
       "      <td>2.69964</td>\n",
       "      <td>2004-02-28 01:06:46</td>\n",
       "      <td>21.5</td>\n",
       "      <td>23.0</td>\n",
       "      <td>2004</td>\n",
       "      <td>2</td>\n",
       "    </tr>\n",
       "    <tr>\n",
       "      <th>5</th>\n",
       "      <td>1.0</td>\n",
       "      <td>19.1456</td>\n",
       "      <td>38.9401</td>\n",
       "      <td>45.08</td>\n",
       "      <td>2.68742</td>\n",
       "      <td>2004-02-28 01:08:45</td>\n",
       "      <td>21.5</td>\n",
       "      <td>23.0</td>\n",
       "      <td>2004</td>\n",
       "      <td>2</td>\n",
       "    </tr>\n",
       "  </tbody>\n",
       "</table>\n",
       "</div>"
      ],
      "text/plain": [
       "   mote_id  temperature  humidity  light  voltage            datetime  \\\n",
       "1      1.0      19.9884   37.0933  45.08  2.69964 2004-02-28 00:59:16   \n",
       "2      1.0      19.3024   38.4629  45.08  2.68742 2004-02-28 01:03:16   \n",
       "3      1.0      19.1652   38.8039  45.08  2.68742 2004-02-28 01:06:16   \n",
       "4      1.0      19.1750   38.8379  45.08  2.69964 2004-02-28 01:06:46   \n",
       "5      1.0      19.1456   38.9401  45.08  2.68742 2004-02-28 01:08:45   \n",
       "\n",
       "   x_coord  y_coord  year  month  \n",
       "1     21.5     23.0  2004      2  \n",
       "2     21.5     23.0  2004      2  \n",
       "3     21.5     23.0  2004      2  \n",
       "4     21.5     23.0  2004      2  \n",
       "5     21.5     23.0  2004      2  "
      ]
     },
     "execution_count": 22,
     "metadata": {},
     "output_type": "execute_result"
    }
   ],
   "source": [
    "sensor_signals['year'] = sensor_signals['datetime'].apply(lambda x: x.year)\n",
    "sensor_signals['month'] = sensor_signals['datetime'].apply(lambda x: x.month)\n",
    "sensor_signals.drop(['date', 'time', 'epoch'], axis=1, inplace=True)\n",
    "sensor_signals.head()"
   ]
  },
  {
   "cell_type": "markdown",
   "metadata": {},
   "source": [
    "## Write to Parquet file"
   ]
  },
  {
   "cell_type": "code",
   "execution_count": 23,
   "metadata": {},
   "outputs": [
    {
     "name": "stderr",
     "output_type": "stream",
     "text": [
      "/Users/rhoesada/anaconda/envs/py37/lib/python3.7/site-packages/pyarrow/pandas_compat.py:114: FutureWarning: A future version of pandas will default to `skipna=True`. To silence this warning, pass `skipna=True|False` explicitly.\n",
      "  result = infer_dtype(pandas_collection)\n",
      "/Users/rhoesada/anaconda/envs/py37/lib/python3.7/site-packages/pyarrow/pandas_compat.py:708: FutureWarning: .labels was deprecated in version 0.24.0. Use .codes instead.\n",
      "  labels = getattr(columns, 'labels', None) or [\n",
      "/Users/rhoesada/anaconda/envs/py37/lib/python3.7/site-packages/pyarrow/pandas_compat.py:735: FutureWarning: the 'labels' keyword is deprecated, use 'codes' instead\n",
      "  return pd.MultiIndex(levels=new_levels, labels=labels, names=columns.names)\n",
      "/Users/rhoesada/anaconda/envs/py37/lib/python3.7/site-packages/pyarrow/pandas_compat.py:752: FutureWarning: .labels was deprecated in version 0.24.0. Use .codes instead.\n",
      "  labels, = index.labels\n"
     ]
    }
   ],
   "source": [
    "table = pa.Table.from_pandas(sensor_signals)\n",
    "\n",
    "pq.write_to_dataset(\n",
    "    table,\n",
    "    root_path='output.parquet',\n",
    "    partition_cols=['year', 'month', 'mote_id'],\n",
    ")"
   ]
  }
 ],
 "metadata": {
  "kernelspec": {
   "display_name": "Python (py37)",
   "language": "python",
   "name": "py37"
  },
  "language_info": {
   "codemirror_mode": {
    "name": "ipython",
    "version": 3
   },
   "file_extension": ".py",
   "mimetype": "text/x-python",
   "name": "python",
   "nbconvert_exporter": "python",
   "pygments_lexer": "ipython3",
   "version": "3.7.5"
  },
  "toc": {
   "base_numbering": 1,
   "nav_menu": {
    "height": "228px",
    "width": "332px"
   },
   "number_sections": true,
   "sideBar": true,
   "skip_h1_title": false,
   "title_cell": "Table of Contents",
   "title_sidebar": "Contents",
   "toc_cell": false,
   "toc_position": {},
   "toc_section_display": true,
   "toc_window_display": false
  }
 },
 "nbformat": 4,
 "nbformat_minor": 2
}
