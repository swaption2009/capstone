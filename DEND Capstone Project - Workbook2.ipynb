{
 "cells": [
  {
   "cell_type": "markdown",
   "metadata": {},
   "source": [
    "## Project Intro: Intel Lab Data"
   ]
  },
  {
   "cell_type": "markdown",
   "metadata": {},
   "source": [
    "This notebook contains information about data collected from 54 sensors deployed in the Intel Berkeley Research lab between February 28th and April 5th, 2004.\n",
    "\n",
    "`Mica2Dot` sensors with weather boards collected timestamped topology information, along with humidity, temperature, light and voltage values once every 31 seconds.\n",
    "\n",
    "Source: http://db.csail.mit.edu/labdata/labdata.html"
   ]
  },
  {
   "cell_type": "markdown",
   "metadata": {},
   "source": [
    "## Import Libraries"
   ]
  },
  {
   "cell_type": "code",
   "execution_count": 1,
   "metadata": {},
   "outputs": [],
   "source": [
    "%load_ext autoreload\n",
    "%autoreload 2"
   ]
  },
  {
   "cell_type": "code",
   "execution_count": 2,
   "metadata": {},
   "outputs": [],
   "source": [
    "import psycopg2\n",
    "import pandas as pd\n",
    "import numpy as np\n",
    "import matplotlib.pyplot as plt"
   ]
  },
  {
   "cell_type": "markdown",
   "metadata": {},
   "source": [
    "## Dataset"
   ]
  },
  {
   "cell_type": "markdown",
   "metadata": {},
   "source": [
    "### Dataset #1: Sensor Data"
   ]
  },
  {
   "cell_type": "code",
   "execution_count": 3,
   "metadata": {},
   "outputs": [
    {
     "data": {
      "text/html": [
       "<div>\n",
       "<style scoped>\n",
       "    .dataframe tbody tr th:only-of-type {\n",
       "        vertical-align: middle;\n",
       "    }\n",
       "\n",
       "    .dataframe tbody tr th {\n",
       "        vertical-align: top;\n",
       "    }\n",
       "\n",
       "    .dataframe thead th {\n",
       "        text-align: right;\n",
       "    }\n",
       "</style>\n",
       "<table border=\"1\" class=\"dataframe\">\n",
       "  <thead>\n",
       "    <tr style=\"text-align: right;\">\n",
       "      <th></th>\n",
       "      <th>0</th>\n",
       "      <th>1</th>\n",
       "      <th>2</th>\n",
       "      <th>3</th>\n",
       "      <th>4</th>\n",
       "      <th>5</th>\n",
       "      <th>6</th>\n",
       "      <th>7</th>\n",
       "    </tr>\n",
       "  </thead>\n",
       "  <tbody>\n",
       "    <tr>\n",
       "      <th>0</th>\n",
       "      <td>2004-03-31</td>\n",
       "      <td>03:38:15.757551</td>\n",
       "      <td>2</td>\n",
       "      <td>1.0</td>\n",
       "      <td>122.1530</td>\n",
       "      <td>-3.91901</td>\n",
       "      <td>11.04</td>\n",
       "      <td>2.03397</td>\n",
       "    </tr>\n",
       "    <tr>\n",
       "      <th>1</th>\n",
       "      <td>2004-02-28</td>\n",
       "      <td>00:59:16.02785</td>\n",
       "      <td>3</td>\n",
       "      <td>1.0</td>\n",
       "      <td>19.9884</td>\n",
       "      <td>37.09330</td>\n",
       "      <td>45.08</td>\n",
       "      <td>2.69964</td>\n",
       "    </tr>\n",
       "    <tr>\n",
       "      <th>2</th>\n",
       "      <td>2004-02-28</td>\n",
       "      <td>01:03:16.33393</td>\n",
       "      <td>11</td>\n",
       "      <td>1.0</td>\n",
       "      <td>19.3024</td>\n",
       "      <td>38.46290</td>\n",
       "      <td>45.08</td>\n",
       "      <td>2.68742</td>\n",
       "    </tr>\n",
       "    <tr>\n",
       "      <th>3</th>\n",
       "      <td>2004-02-28</td>\n",
       "      <td>01:06:16.013453</td>\n",
       "      <td>17</td>\n",
       "      <td>1.0</td>\n",
       "      <td>19.1652</td>\n",
       "      <td>38.80390</td>\n",
       "      <td>45.08</td>\n",
       "      <td>2.68742</td>\n",
       "    </tr>\n",
       "    <tr>\n",
       "      <th>4</th>\n",
       "      <td>2004-02-28</td>\n",
       "      <td>01:06:46.778088</td>\n",
       "      <td>18</td>\n",
       "      <td>1.0</td>\n",
       "      <td>19.1750</td>\n",
       "      <td>38.83790</td>\n",
       "      <td>45.08</td>\n",
       "      <td>2.69964</td>\n",
       "    </tr>\n",
       "  </tbody>\n",
       "</table>\n",
       "</div>"
      ],
      "text/plain": [
       "            0                1   2    3         4         5      6        7\n",
       "0  2004-03-31  03:38:15.757551   2  1.0  122.1530  -3.91901  11.04  2.03397\n",
       "1  2004-02-28   00:59:16.02785   3  1.0   19.9884  37.09330  45.08  2.69964\n",
       "2  2004-02-28   01:03:16.33393  11  1.0   19.3024  38.46290  45.08  2.68742\n",
       "3  2004-02-28  01:06:16.013453  17  1.0   19.1652  38.80390  45.08  2.68742\n",
       "4  2004-02-28  01:06:46.778088  18  1.0   19.1750  38.83790  45.08  2.69964"
      ]
     },
     "execution_count": 3,
     "metadata": {},
     "output_type": "execute_result"
    }
   ],
   "source": [
    "sensor_data = pd.read_csv('data/data.txt', sep=\" \", header=None)\n",
    "sensor_data.head()"
   ]
  },
  {
   "cell_type": "code",
   "execution_count": 4,
   "metadata": {},
   "outputs": [
    {
     "data": {
      "text/html": [
       "<div>\n",
       "<style scoped>\n",
       "    .dataframe tbody tr th:only-of-type {\n",
       "        vertical-align: middle;\n",
       "    }\n",
       "\n",
       "    .dataframe tbody tr th {\n",
       "        vertical-align: top;\n",
       "    }\n",
       "\n",
       "    .dataframe thead th {\n",
       "        text-align: right;\n",
       "    }\n",
       "</style>\n",
       "<table border=\"1\" class=\"dataframe\">\n",
       "  <thead>\n",
       "    <tr style=\"text-align: right;\">\n",
       "      <th></th>\n",
       "      <th>date</th>\n",
       "      <th>time</th>\n",
       "      <th>epoch</th>\n",
       "      <th>mote_id</th>\n",
       "      <th>temperature</th>\n",
       "      <th>humidity</th>\n",
       "      <th>light</th>\n",
       "      <th>voltage</th>\n",
       "    </tr>\n",
       "  </thead>\n",
       "  <tbody>\n",
       "    <tr>\n",
       "      <th>0</th>\n",
       "      <td>2004-03-31</td>\n",
       "      <td>03:38:15.757551</td>\n",
       "      <td>2</td>\n",
       "      <td>1.0</td>\n",
       "      <td>122.1530</td>\n",
       "      <td>-3.91901</td>\n",
       "      <td>11.04</td>\n",
       "      <td>2.03397</td>\n",
       "    </tr>\n",
       "    <tr>\n",
       "      <th>1</th>\n",
       "      <td>2004-02-28</td>\n",
       "      <td>00:59:16.02785</td>\n",
       "      <td>3</td>\n",
       "      <td>1.0</td>\n",
       "      <td>19.9884</td>\n",
       "      <td>37.09330</td>\n",
       "      <td>45.08</td>\n",
       "      <td>2.69964</td>\n",
       "    </tr>\n",
       "    <tr>\n",
       "      <th>2</th>\n",
       "      <td>2004-02-28</td>\n",
       "      <td>01:03:16.33393</td>\n",
       "      <td>11</td>\n",
       "      <td>1.0</td>\n",
       "      <td>19.3024</td>\n",
       "      <td>38.46290</td>\n",
       "      <td>45.08</td>\n",
       "      <td>2.68742</td>\n",
       "    </tr>\n",
       "    <tr>\n",
       "      <th>3</th>\n",
       "      <td>2004-02-28</td>\n",
       "      <td>01:06:16.013453</td>\n",
       "      <td>17</td>\n",
       "      <td>1.0</td>\n",
       "      <td>19.1652</td>\n",
       "      <td>38.80390</td>\n",
       "      <td>45.08</td>\n",
       "      <td>2.68742</td>\n",
       "    </tr>\n",
       "    <tr>\n",
       "      <th>4</th>\n",
       "      <td>2004-02-28</td>\n",
       "      <td>01:06:46.778088</td>\n",
       "      <td>18</td>\n",
       "      <td>1.0</td>\n",
       "      <td>19.1750</td>\n",
       "      <td>38.83790</td>\n",
       "      <td>45.08</td>\n",
       "      <td>2.69964</td>\n",
       "    </tr>\n",
       "  </tbody>\n",
       "</table>\n",
       "</div>"
      ],
      "text/plain": [
       "         date             time  epoch  mote_id  temperature  humidity  light  \\\n",
       "0  2004-03-31  03:38:15.757551      2      1.0     122.1530  -3.91901  11.04   \n",
       "1  2004-02-28   00:59:16.02785      3      1.0      19.9884  37.09330  45.08   \n",
       "2  2004-02-28   01:03:16.33393     11      1.0      19.3024  38.46290  45.08   \n",
       "3  2004-02-28  01:06:16.013453     17      1.0      19.1652  38.80390  45.08   \n",
       "4  2004-02-28  01:06:46.778088     18      1.0      19.1750  38.83790  45.08   \n",
       "\n",
       "   voltage  \n",
       "0  2.03397  \n",
       "1  2.69964  \n",
       "2  2.68742  \n",
       "3  2.68742  \n",
       "4  2.69964  "
      ]
     },
     "execution_count": 4,
     "metadata": {},
     "output_type": "execute_result"
    }
   ],
   "source": [
    "sensor_data.columns = ['date', 'time', 'epoch', 'mote_id', \n",
    "                       'temperature', 'humidity', 'light', 'voltage']\n",
    "sensor_data.head()"
   ]
  },
  {
   "cell_type": "code",
   "execution_count": 5,
   "metadata": {},
   "outputs": [
    {
     "data": {
      "text/html": [
       "<div>\n",
       "<style scoped>\n",
       "    .dataframe tbody tr th:only-of-type {\n",
       "        vertical-align: middle;\n",
       "    }\n",
       "\n",
       "    .dataframe tbody tr th {\n",
       "        vertical-align: top;\n",
       "    }\n",
       "\n",
       "    .dataframe thead th {\n",
       "        text-align: right;\n",
       "    }\n",
       "</style>\n",
       "<table border=\"1\" class=\"dataframe\">\n",
       "  <thead>\n",
       "    <tr style=\"text-align: right;\">\n",
       "      <th></th>\n",
       "      <th>date</th>\n",
       "      <th>time</th>\n",
       "      <th>epoch</th>\n",
       "      <th>mote_id</th>\n",
       "      <th>temperature</th>\n",
       "      <th>humidity</th>\n",
       "      <th>light</th>\n",
       "      <th>voltage</th>\n",
       "      <th>datetime</th>\n",
       "    </tr>\n",
       "  </thead>\n",
       "  <tbody>\n",
       "    <tr>\n",
       "      <th>0</th>\n",
       "      <td>2004-03-31</td>\n",
       "      <td>03:38:15.757551</td>\n",
       "      <td>2</td>\n",
       "      <td>1.0</td>\n",
       "      <td>122.1530</td>\n",
       "      <td>-3.91901</td>\n",
       "      <td>11.04</td>\n",
       "      <td>2.03397</td>\n",
       "      <td>2004-03-31 03:00:00</td>\n",
       "    </tr>\n",
       "    <tr>\n",
       "      <th>1</th>\n",
       "      <td>2004-02-28</td>\n",
       "      <td>00:59:16.02785</td>\n",
       "      <td>3</td>\n",
       "      <td>1.0</td>\n",
       "      <td>19.9884</td>\n",
       "      <td>37.09330</td>\n",
       "      <td>45.08</td>\n",
       "      <td>2.69964</td>\n",
       "      <td>2004-02-28 00:00:00</td>\n",
       "    </tr>\n",
       "    <tr>\n",
       "      <th>2</th>\n",
       "      <td>2004-02-28</td>\n",
       "      <td>01:03:16.33393</td>\n",
       "      <td>11</td>\n",
       "      <td>1.0</td>\n",
       "      <td>19.3024</td>\n",
       "      <td>38.46290</td>\n",
       "      <td>45.08</td>\n",
       "      <td>2.68742</td>\n",
       "      <td>2004-02-28 01:00:00</td>\n",
       "    </tr>\n",
       "    <tr>\n",
       "      <th>3</th>\n",
       "      <td>2004-02-28</td>\n",
       "      <td>01:06:16.013453</td>\n",
       "      <td>17</td>\n",
       "      <td>1.0</td>\n",
       "      <td>19.1652</td>\n",
       "      <td>38.80390</td>\n",
       "      <td>45.08</td>\n",
       "      <td>2.68742</td>\n",
       "      <td>2004-02-28 01:00:00</td>\n",
       "    </tr>\n",
       "    <tr>\n",
       "      <th>4</th>\n",
       "      <td>2004-02-28</td>\n",
       "      <td>01:06:46.778088</td>\n",
       "      <td>18</td>\n",
       "      <td>1.0</td>\n",
       "      <td>19.1750</td>\n",
       "      <td>38.83790</td>\n",
       "      <td>45.08</td>\n",
       "      <td>2.69964</td>\n",
       "      <td>2004-02-28 01:00:00</td>\n",
       "    </tr>\n",
       "    <tr>\n",
       "      <th>5</th>\n",
       "      <td>2004-02-28</td>\n",
       "      <td>01:08:45.992524</td>\n",
       "      <td>22</td>\n",
       "      <td>1.0</td>\n",
       "      <td>19.1456</td>\n",
       "      <td>38.94010</td>\n",
       "      <td>45.08</td>\n",
       "      <td>2.68742</td>\n",
       "      <td>2004-02-28 01:00:00</td>\n",
       "    </tr>\n",
       "    <tr>\n",
       "      <th>6</th>\n",
       "      <td>2004-02-28</td>\n",
       "      <td>01:09:22.323858</td>\n",
       "      <td>23</td>\n",
       "      <td>1.0</td>\n",
       "      <td>19.1652</td>\n",
       "      <td>38.87200</td>\n",
       "      <td>45.08</td>\n",
       "      <td>2.68742</td>\n",
       "      <td>2004-02-28 01:00:00</td>\n",
       "    </tr>\n",
       "    <tr>\n",
       "      <th>7</th>\n",
       "      <td>2004-02-28</td>\n",
       "      <td>01:09:46.109598</td>\n",
       "      <td>24</td>\n",
       "      <td>1.0</td>\n",
       "      <td>19.1652</td>\n",
       "      <td>38.80390</td>\n",
       "      <td>45.08</td>\n",
       "      <td>2.68742</td>\n",
       "      <td>2004-02-28 01:00:00</td>\n",
       "    </tr>\n",
       "    <tr>\n",
       "      <th>8</th>\n",
       "      <td>2004-02-28</td>\n",
       "      <td>01:10:16.6789</td>\n",
       "      <td>25</td>\n",
       "      <td>1.0</td>\n",
       "      <td>19.1456</td>\n",
       "      <td>38.83790</td>\n",
       "      <td>45.08</td>\n",
       "      <td>2.69964</td>\n",
       "      <td>2004-02-28 01:00:00</td>\n",
       "    </tr>\n",
       "    <tr>\n",
       "      <th>9</th>\n",
       "      <td>2004-02-28</td>\n",
       "      <td>01:10:46.250524</td>\n",
       "      <td>26</td>\n",
       "      <td>1.0</td>\n",
       "      <td>19.1456</td>\n",
       "      <td>38.87200</td>\n",
       "      <td>45.08</td>\n",
       "      <td>2.68742</td>\n",
       "      <td>2004-02-28 01:00:00</td>\n",
       "    </tr>\n",
       "  </tbody>\n",
       "</table>\n",
       "</div>"
      ],
      "text/plain": [
       "         date             time  epoch  mote_id  temperature  humidity  light  \\\n",
       "0  2004-03-31  03:38:15.757551      2      1.0     122.1530  -3.91901  11.04   \n",
       "1  2004-02-28   00:59:16.02785      3      1.0      19.9884  37.09330  45.08   \n",
       "2  2004-02-28   01:03:16.33393     11      1.0      19.3024  38.46290  45.08   \n",
       "3  2004-02-28  01:06:16.013453     17      1.0      19.1652  38.80390  45.08   \n",
       "4  2004-02-28  01:06:46.778088     18      1.0      19.1750  38.83790  45.08   \n",
       "5  2004-02-28  01:08:45.992524     22      1.0      19.1456  38.94010  45.08   \n",
       "6  2004-02-28  01:09:22.323858     23      1.0      19.1652  38.87200  45.08   \n",
       "7  2004-02-28  01:09:46.109598     24      1.0      19.1652  38.80390  45.08   \n",
       "8  2004-02-28    01:10:16.6789     25      1.0      19.1456  38.83790  45.08   \n",
       "9  2004-02-28  01:10:46.250524     26      1.0      19.1456  38.87200  45.08   \n",
       "\n",
       "   voltage            datetime  \n",
       "0  2.03397 2004-03-31 03:00:00  \n",
       "1  2.69964 2004-02-28 00:00:00  \n",
       "2  2.68742 2004-02-28 01:00:00  \n",
       "3  2.68742 2004-02-28 01:00:00  \n",
       "4  2.69964 2004-02-28 01:00:00  \n",
       "5  2.68742 2004-02-28 01:00:00  \n",
       "6  2.68742 2004-02-28 01:00:00  \n",
       "7  2.68742 2004-02-28 01:00:00  \n",
       "8  2.69964 2004-02-28 01:00:00  \n",
       "9  2.68742 2004-02-28 01:00:00  "
      ]
     },
     "execution_count": 5,
     "metadata": {},
     "output_type": "execute_result"
    }
   ],
   "source": [
    "sensor_data['datetime'] = sensor_data['date'] + ' ' + sensor_data['time']\n",
    "sensor_data['datetime'] = pd.to_datetime(sensor_data['datetime'])\n",
    "sensor_data['datetime'] = sensor_data['datetime'].values.astype('<M8[h]')\n",
    "sensor_data.head(10)"
   ]
  },
  {
   "cell_type": "code",
   "execution_count": 6,
   "metadata": {},
   "outputs": [
    {
     "data": {
      "text/html": [
       "<div>\n",
       "<style scoped>\n",
       "    .dataframe tbody tr th:only-of-type {\n",
       "        vertical-align: middle;\n",
       "    }\n",
       "\n",
       "    .dataframe tbody tr th {\n",
       "        vertical-align: top;\n",
       "    }\n",
       "\n",
       "    .dataframe thead th {\n",
       "        text-align: right;\n",
       "    }\n",
       "</style>\n",
       "<table border=\"1\" class=\"dataframe\">\n",
       "  <thead>\n",
       "    <tr style=\"text-align: right;\">\n",
       "      <th></th>\n",
       "      <th>date</th>\n",
       "      <th>time</th>\n",
       "      <th>epoch</th>\n",
       "      <th>mote_id</th>\n",
       "      <th>temperature</th>\n",
       "      <th>humidity</th>\n",
       "      <th>light</th>\n",
       "      <th>voltage</th>\n",
       "      <th>datetime</th>\n",
       "    </tr>\n",
       "  </thead>\n",
       "  <tbody>\n",
       "    <tr>\n",
       "      <th>2313212</th>\n",
       "      <td>2004-04-03</td>\n",
       "      <td>16:00:41.408433</td>\n",
       "      <td>178</td>\n",
       "      <td>NaN</td>\n",
       "      <td>NaN</td>\n",
       "      <td>NaN</td>\n",
       "      <td>NaN</td>\n",
       "      <td>NaN</td>\n",
       "      <td>2004-04-03 16:00:00</td>\n",
       "    </tr>\n",
       "    <tr>\n",
       "      <th>2313213</th>\n",
       "      <td>2004-04-03</td>\n",
       "      <td>16:03:41.027159</td>\n",
       "      <td>179</td>\n",
       "      <td>NaN</td>\n",
       "      <td>NaN</td>\n",
       "      <td>NaN</td>\n",
       "      <td>NaN</td>\n",
       "      <td>NaN</td>\n",
       "      <td>2004-04-03 16:00:00</td>\n",
       "    </tr>\n",
       "    <tr>\n",
       "      <th>2313214</th>\n",
       "      <td>2004-04-03</td>\n",
       "      <td>16:24:41.364247</td>\n",
       "      <td>186</td>\n",
       "      <td>NaN</td>\n",
       "      <td>NaN</td>\n",
       "      <td>NaN</td>\n",
       "      <td>NaN</td>\n",
       "      <td>NaN</td>\n",
       "      <td>2004-04-03 16:00:00</td>\n",
       "    </tr>\n",
       "    <tr>\n",
       "      <th>2313215</th>\n",
       "      <td>2004-04-03</td>\n",
       "      <td>16:33:40.80513</td>\n",
       "      <td>188</td>\n",
       "      <td>NaN</td>\n",
       "      <td>NaN</td>\n",
       "      <td>NaN</td>\n",
       "      <td>NaN</td>\n",
       "      <td>NaN</td>\n",
       "      <td>2004-04-03 16:00:00</td>\n",
       "    </tr>\n",
       "    <tr>\n",
       "      <th>2313216</th>\n",
       "      <td>2004-04-03</td>\n",
       "      <td>16:36:40.458726</td>\n",
       "      <td>189</td>\n",
       "      <td>NaN</td>\n",
       "      <td>NaN</td>\n",
       "      <td>NaN</td>\n",
       "      <td>NaN</td>\n",
       "      <td>NaN</td>\n",
       "      <td>2004-04-03 16:00:00</td>\n",
       "    </tr>\n",
       "  </tbody>\n",
       "</table>\n",
       "</div>"
      ],
      "text/plain": [
       "               date             time  epoch  mote_id  temperature  humidity  \\\n",
       "2313212  2004-04-03  16:00:41.408433    178      NaN          NaN       NaN   \n",
       "2313213  2004-04-03  16:03:41.027159    179      NaN          NaN       NaN   \n",
       "2313214  2004-04-03  16:24:41.364247    186      NaN          NaN       NaN   \n",
       "2313215  2004-04-03   16:33:40.80513    188      NaN          NaN       NaN   \n",
       "2313216  2004-04-03  16:36:40.458726    189      NaN          NaN       NaN   \n",
       "\n",
       "         light  voltage            datetime  \n",
       "2313212    NaN      NaN 2004-04-03 16:00:00  \n",
       "2313213    NaN      NaN 2004-04-03 16:00:00  \n",
       "2313214    NaN      NaN 2004-04-03 16:00:00  \n",
       "2313215    NaN      NaN 2004-04-03 16:00:00  \n",
       "2313216    NaN      NaN 2004-04-03 16:00:00  "
      ]
     },
     "execution_count": 6,
     "metadata": {},
     "output_type": "execute_result"
    }
   ],
   "source": [
    "sensor_data.sort_values(by=['mote_id', 'datetime'], inplace=True)\n",
    "sensor_data.tail()"
   ]
  },
  {
   "cell_type": "code",
   "execution_count": 7,
   "metadata": {},
   "outputs": [
    {
     "data": {
      "text/plain": [
       "date               0\n",
       "time               0\n",
       "epoch              0\n",
       "mote_id          526\n",
       "temperature      901\n",
       "humidity         902\n",
       "light          93878\n",
       "voltage          526\n",
       "datetime           0\n",
       "dtype: int64"
      ]
     },
     "execution_count": 7,
     "metadata": {},
     "output_type": "execute_result"
    }
   ],
   "source": [
    "sensor_data.isna().sum()"
   ]
  },
  {
   "cell_type": "code",
   "execution_count": 8,
   "metadata": {},
   "outputs": [
    {
     "data": {
      "text/plain": [
       "date           0\n",
       "time           0\n",
       "epoch          0\n",
       "mote_id        0\n",
       "temperature    0\n",
       "humidity       0\n",
       "light          0\n",
       "voltage        0\n",
       "datetime       0\n",
       "dtype: int64"
      ]
     },
     "execution_count": 8,
     "metadata": {},
     "output_type": "execute_result"
    }
   ],
   "source": [
    "sensor_data.dropna(inplace=True)\n",
    "sensor_data.isna().sum()"
   ]
  },
  {
   "cell_type": "code",
   "execution_count": 70,
   "metadata": {},
   "outputs": [
    {
     "data": {
      "text/html": [
       "<div>\n",
       "<style scoped>\n",
       "    .dataframe tbody tr th:only-of-type {\n",
       "        vertical-align: middle;\n",
       "    }\n",
       "\n",
       "    .dataframe tbody tr th {\n",
       "        vertical-align: top;\n",
       "    }\n",
       "\n",
       "    .dataframe thead th {\n",
       "        text-align: right;\n",
       "    }\n",
       "</style>\n",
       "<table border=\"1\" class=\"dataframe\">\n",
       "  <thead>\n",
       "    <tr style=\"text-align: right;\">\n",
       "      <th></th>\n",
       "      <th>date</th>\n",
       "      <th>time</th>\n",
       "      <th>epoch</th>\n",
       "      <th>mote_id</th>\n",
       "      <th>temperature</th>\n",
       "      <th>humidity</th>\n",
       "      <th>light</th>\n",
       "      <th>voltage</th>\n",
       "      <th>datetime</th>\n",
       "    </tr>\n",
       "  </thead>\n",
       "  <tbody>\n",
       "    <tr>\n",
       "      <th>2308804</th>\n",
       "      <td>2004-04-04</td>\n",
       "      <td>01:41:52.80531</td>\n",
       "      <td>1605</td>\n",
       "      <td>58.0</td>\n",
       "      <td>22.0366</td>\n",
       "      <td>34.5012</td>\n",
       "      <td>3.22</td>\n",
       "      <td>2.61639</td>\n",
       "      <td>2004-04-04 01:00:00</td>\n",
       "    </tr>\n",
       "    <tr>\n",
       "      <th>2308806</th>\n",
       "      <td>2004-04-04</td>\n",
       "      <td>07:14:56.864183</td>\n",
       "      <td>1607</td>\n",
       "      <td>58.0</td>\n",
       "      <td>21.0664</td>\n",
       "      <td>35.6110</td>\n",
       "      <td>5.06</td>\n",
       "      <td>2.59354</td>\n",
       "      <td>2004-04-04 07:00:00</td>\n",
       "    </tr>\n",
       "    <tr>\n",
       "      <th>2308808</th>\n",
       "      <td>2004-04-04</td>\n",
       "      <td>11:48:02.390186</td>\n",
       "      <td>1609</td>\n",
       "      <td>58.0</td>\n",
       "      <td>21.5956</td>\n",
       "      <td>35.8530</td>\n",
       "      <td>48.76</td>\n",
       "      <td>2.58226</td>\n",
       "      <td>2004-04-04 11:00:00</td>\n",
       "    </tr>\n",
       "    <tr>\n",
       "      <th>2308810</th>\n",
       "      <td>2004-04-04</td>\n",
       "      <td>16:21:06.290436</td>\n",
       "      <td>1611</td>\n",
       "      <td>58.0</td>\n",
       "      <td>23.9378</td>\n",
       "      <td>34.6403</td>\n",
       "      <td>86.48</td>\n",
       "      <td>2.59354</td>\n",
       "      <td>2004-04-04 16:00:00</td>\n",
       "    </tr>\n",
       "    <tr>\n",
       "      <th>2308812</th>\n",
       "      <td>2004-04-04</td>\n",
       "      <td>20:54:11.616528</td>\n",
       "      <td>1613</td>\n",
       "      <td>58.0</td>\n",
       "      <td>21.6348</td>\n",
       "      <td>37.1963</td>\n",
       "      <td>3.22</td>\n",
       "      <td>2.56000</td>\n",
       "      <td>2004-04-04 20:00:00</td>\n",
       "    </tr>\n",
       "  </tbody>\n",
       "</table>\n",
       "</div>"
      ],
      "text/plain": [
       "               date             time  epoch  mote_id  temperature  humidity  \\\n",
       "2308804  2004-04-04   01:41:52.80531   1605     58.0      22.0366   34.5012   \n",
       "2308806  2004-04-04  07:14:56.864183   1607     58.0      21.0664   35.6110   \n",
       "2308808  2004-04-04  11:48:02.390186   1609     58.0      21.5956   35.8530   \n",
       "2308810  2004-04-04  16:21:06.290436   1611     58.0      23.9378   34.6403   \n",
       "2308812  2004-04-04  20:54:11.616528   1613     58.0      21.6348   37.1963   \n",
       "\n",
       "         light  voltage            datetime  \n",
       "2308804   3.22  2.61639 2004-04-04 01:00:00  \n",
       "2308806   5.06  2.59354 2004-04-04 07:00:00  \n",
       "2308808  48.76  2.58226 2004-04-04 11:00:00  \n",
       "2308810  86.48  2.59354 2004-04-04 16:00:00  \n",
       "2308812   3.22  2.56000 2004-04-04 20:00:00  "
      ]
     },
     "execution_count": 70,
     "metadata": {},
     "output_type": "execute_result"
    }
   ],
   "source": [
    "sensor_data.drop_duplicates('datetime', inplace=True)\n",
    "sensor_data.tail()"
   ]
  },
  {
   "cell_type": "code",
   "execution_count": 71,
   "metadata": {},
   "outputs": [
    {
     "data": {
      "text/plain": [
       "<matplotlib.axes._subplots.AxesSubplot at 0x1343d5090>"
      ]
     },
     "execution_count": 71,
     "metadata": {},
     "output_type": "execute_result"
    },
    {
     "data": {
      "image/png": "[encoded data removed]",
      "text/plain": [
       "<Figure size 432x288 with 1 Axes>"
      ]
     },
     "metadata": {},
     "output_type": "display_data"
    }
   ],
   "source": [
    "sensor_data.plot(x='datetime', y='temperature')"
   ]
  },
  {
   "cell_type": "code",
   "execution_count": 72,
   "metadata": {},
   "outputs": [
    {
     "data": {
      "text/plain": [
       "<matplotlib.axes._subplots.AxesSubplot at 0x1342eca50>"
      ]
     },
     "execution_count": 72,
     "metadata": {},
     "output_type": "execute_result"
    },
    {
     "data": {
      "image/png": "[encoded data removed]",
      "text/plain": [
       "<Figure size 432x288 with 1 Axes>"
      ]
     },
     "metadata": {},
     "output_type": "display_data"
    }
   ],
   "source": [
    "mote1 = sensor_data[sensor_data['mote_id'] == 1.0 ]\n",
    "mote1.plot(x='datetime', y='temperature')"
   ]
  },
  {
   "cell_type": "code",
   "execution_count": 73,
   "metadata": {},
   "outputs": [
    {
     "data": {
      "text/plain": [
       "<matplotlib.axes._subplots.AxesSubplot at 0x1344adb50>"
      ]
     },
     "execution_count": 73,
     "metadata": {},
     "output_type": "execute_result"
    },
    {
     "data": {
      "image/png": "[encoded data removed]",
      "text/plain": [
       "<Figure size 432x288 with 1 Axes>"
      ]
     },
     "metadata": {},
     "output_type": "display_data"
    }
   ],
   "source": [
    "mote58 = sensor_data[sensor_data['mote_id'] == 58.0 ]\n",
    "mote58.plot(x='datetime', y='temperature')"
   ]
  },
  {
   "cell_type": "code",
   "execution_count": 76,
   "metadata": {},
   "outputs": [
    {
     "data": {
      "text/html": [
       "<div>\n",
       "<style scoped>\n",
       "    .dataframe tbody tr th:only-of-type {\n",
       "        vertical-align: middle;\n",
       "    }\n",
       "\n",
       "    .dataframe tbody tr th {\n",
       "        vertical-align: top;\n",
       "    }\n",
       "\n",
       "    .dataframe thead th {\n",
       "        text-align: right;\n",
       "    }\n",
       "</style>\n",
       "<table border=\"1\" class=\"dataframe\">\n",
       "  <thead>\n",
       "    <tr style=\"text-align: right;\">\n",
       "      <th></th>\n",
       "      <th>temperature</th>\n",
       "    </tr>\n",
       "    <tr>\n",
       "      <th>datetime</th>\n",
       "      <th></th>\n",
       "    </tr>\n",
       "  </thead>\n",
       "  <tbody>\n",
       "    <tr>\n",
       "      <th>2004-02-28 00:00:00</th>\n",
       "      <td>19.9884</td>\n",
       "    </tr>\n",
       "    <tr>\n",
       "      <th>2004-02-28 01:00:00</th>\n",
       "      <td>19.3024</td>\n",
       "    </tr>\n",
       "    <tr>\n",
       "      <th>2004-02-28 02:00:00</th>\n",
       "      <td>18.8712</td>\n",
       "    </tr>\n",
       "    <tr>\n",
       "      <th>2004-02-28 03:00:00</th>\n",
       "      <td>18.5478</td>\n",
       "    </tr>\n",
       "    <tr>\n",
       "      <th>2004-02-28 04:00:00</th>\n",
       "      <td>18.2734</td>\n",
       "    </tr>\n",
       "  </tbody>\n",
       "</table>\n",
       "</div>"
      ],
      "text/plain": [
       "                     temperature\n",
       "datetime                        \n",
       "2004-02-28 00:00:00      19.9884\n",
       "2004-02-28 01:00:00      19.3024\n",
       "2004-02-28 02:00:00      18.8712\n",
       "2004-02-28 03:00:00      18.5478\n",
       "2004-02-28 04:00:00      18.2734"
      ]
     },
     "execution_count": 76,
     "metadata": {},
     "output_type": "execute_result"
    }
   ],
   "source": [
    "mote1_adtk = mote1[['datetime', 'temperature']]\n",
    "mote1_adtk.set_index('datetime', inplace=True)\n",
    "mote1_adtk.head()"
   ]
  },
  {
   "cell_type": "code",
   "execution_count": 51,
   "metadata": {},
   "outputs": [
    {
     "name": "stdout",
     "output_type": "stream",
     "text": [
      "                     temperature\n",
      "datetime                        \n",
      "2004-02-28 00:00:00      19.9884\n",
      "2004-02-28 01:00:00      19.3024\n",
      "2004-02-28 02:00:00      18.8712\n",
      "2004-02-28 03:00:00      18.5478\n",
      "2004-02-28 04:00:00      18.2734\n",
      "...                          ...\n",
      "2004-03-09 19:00:00      22.7226\n",
      "2004-03-09 20:00:00      22.6246\n",
      "2004-03-09 21:00:00      22.4776\n",
      "2004-03-09 22:00:00      22.2522\n",
      "2004-03-09 23:00:00      22.2424\n",
      "\n",
      "[264 rows x 1 columns]\n"
     ]
    }
   ],
   "source": [
    "from adtk.data import validate_series\n",
    "s_train = validate_series(mote1_adtk[:264])\n",
    "print(s_train)"
   ]
  },
  {
   "cell_type": "code",
   "execution_count": 52,
   "metadata": {},
   "outputs": [
    {
     "data": {
      "text/plain": [
       "<matplotlib.axes._subplots.AxesSubplot at 0x132543ed0>"
      ]
     },
     "execution_count": 52,
     "metadata": {},
     "output_type": "execute_result"
    },
    {
     "data": {
      "image/png": "[encoded data removed]",
      "text/plain": [
       "<Figure size 1152x288 with 1 Axes>"
      ]
     },
     "metadata": {},
     "output_type": "display_data"
    }
   ],
   "source": [
    "from adtk.visualization import plot\n",
    "plot(s_train)"
   ]
  },
  {
   "cell_type": "code",
   "execution_count": 53,
   "metadata": {},
   "outputs": [
    {
     "data": {
      "text/plain": [
       "<matplotlib.axes._subplots.AxesSubplot at 0x132bf6a90>"
      ]
     },
     "execution_count": 53,
     "metadata": {},
     "output_type": "execute_result"
    },
    {
     "data": {
      "image/png": "[encoded data removed]",
      "text/plain": [
       "<Figure size 1152x288 with 1 Axes>"
      ]
     },
     "metadata": {},
     "output_type": "display_data"
    }
   ],
   "source": [
    "from adtk.detector import SeasonalAD\n",
    "seasonal_ad = SeasonalAD()\n",
    "anomalies = seasonal_ad.fit_detect(s_train)\n",
    "plot(s_train, anomaly_pred=anomalies, ap_color='red', ap_marker_on_curve=True)"
   ]
  },
  {
   "cell_type": "code",
   "execution_count": 87,
   "metadata": {},
   "outputs": [
    {
     "data": {
      "text/html": [
       "<div>\n",
       "<style scoped>\n",
       "    .dataframe tbody tr th:only-of-type {\n",
       "        vertical-align: middle;\n",
       "    }\n",
       "\n",
       "    .dataframe tbody tr th {\n",
       "        vertical-align: top;\n",
       "    }\n",
       "\n",
       "    .dataframe thead th {\n",
       "        text-align: right;\n",
       "    }\n",
       "</style>\n",
       "<table border=\"1\" class=\"dataframe\">\n",
       "  <thead>\n",
       "    <tr style=\"text-align: right;\">\n",
       "      <th></th>\n",
       "      <th>temperature</th>\n",
       "    </tr>\n",
       "  </thead>\n",
       "  <tbody>\n",
       "    <tr>\n",
       "      <th>2004-03-10 00:00:00</th>\n",
       "      <td>0</td>\n",
       "    </tr>\n",
       "    <tr>\n",
       "      <th>2004-03-10 01:00:00</th>\n",
       "      <td>0</td>\n",
       "    </tr>\n",
       "    <tr>\n",
       "      <th>2004-03-10 02:00:00</th>\n",
       "      <td>0</td>\n",
       "    </tr>\n",
       "    <tr>\n",
       "      <th>2004-03-10 03:00:00</th>\n",
       "      <td>0</td>\n",
       "    </tr>\n",
       "    <tr>\n",
       "      <th>2004-03-10 04:00:00</th>\n",
       "      <td>0</td>\n",
       "    </tr>\n",
       "    <tr>\n",
       "      <th>2004-03-10 05:00:00</th>\n",
       "      <td>0</td>\n",
       "    </tr>\n",
       "    <tr>\n",
       "      <th>2004-03-10 06:00:00</th>\n",
       "      <td>0</td>\n",
       "    </tr>\n",
       "    <tr>\n",
       "      <th>2004-03-10 07:00:00</th>\n",
       "      <td>0</td>\n",
       "    </tr>\n",
       "    <tr>\n",
       "      <th>2004-03-10 08:00:00</th>\n",
       "      <td>0</td>\n",
       "    </tr>\n",
       "    <tr>\n",
       "      <th>2004-03-10 09:00:00</th>\n",
       "      <td>0</td>\n",
       "    </tr>\n",
       "    <tr>\n",
       "      <th>2004-03-10 10:00:00</th>\n",
       "      <td>0</td>\n",
       "    </tr>\n",
       "    <tr>\n",
       "      <th>2004-03-10 11:00:00</th>\n",
       "      <td>0</td>\n",
       "    </tr>\n",
       "    <tr>\n",
       "      <th>2004-03-10 12:00:00</th>\n",
       "      <td>0</td>\n",
       "    </tr>\n",
       "    <tr>\n",
       "      <th>2004-03-10 13:00:00</th>\n",
       "      <td>0</td>\n",
       "    </tr>\n",
       "    <tr>\n",
       "      <th>2004-03-10 14:00:00</th>\n",
       "      <td>0</td>\n",
       "    </tr>\n",
       "    <tr>\n",
       "      <th>2004-03-10 15:00:00</th>\n",
       "      <td>0</td>\n",
       "    </tr>\n",
       "    <tr>\n",
       "      <th>2004-03-10 16:00:00</th>\n",
       "      <td>0</td>\n",
       "    </tr>\n",
       "    <tr>\n",
       "      <th>2004-03-10 17:00:00</th>\n",
       "      <td>0</td>\n",
       "    </tr>\n",
       "    <tr>\n",
       "      <th>2004-03-10 18:00:00</th>\n",
       "      <td>0</td>\n",
       "    </tr>\n",
       "    <tr>\n",
       "      <th>2004-03-10 19:00:00</th>\n",
       "      <td>0</td>\n",
       "    </tr>\n",
       "    <tr>\n",
       "      <th>2004-03-10 20:00:00</th>\n",
       "      <td>0</td>\n",
       "    </tr>\n",
       "    <tr>\n",
       "      <th>2004-03-10 21:00:00</th>\n",
       "      <td>0</td>\n",
       "    </tr>\n",
       "    <tr>\n",
       "      <th>2004-03-10 22:00:00</th>\n",
       "      <td>0</td>\n",
       "    </tr>\n",
       "    <tr>\n",
       "      <th>2004-03-10 23:00:00</th>\n",
       "      <td>0</td>\n",
       "    </tr>\n",
       "    <tr>\n",
       "      <th>2004-03-11 00:00:00</th>\n",
       "      <td>0</td>\n",
       "    </tr>\n",
       "  </tbody>\n",
       "</table>\n",
       "</div>"
      ],
      "text/plain": [
       "                     temperature\n",
       "2004-03-10 00:00:00            0\n",
       "2004-03-10 01:00:00            0\n",
       "2004-03-10 02:00:00            0\n",
       "2004-03-10 03:00:00            0\n",
       "2004-03-10 04:00:00            0\n",
       "2004-03-10 05:00:00            0\n",
       "2004-03-10 06:00:00            0\n",
       "2004-03-10 07:00:00            0\n",
       "2004-03-10 08:00:00            0\n",
       "2004-03-10 09:00:00            0\n",
       "2004-03-10 10:00:00            0\n",
       "2004-03-10 11:00:00            0\n",
       "2004-03-10 12:00:00            0\n",
       "2004-03-10 13:00:00            0\n",
       "2004-03-10 14:00:00            0\n",
       "2004-03-10 15:00:00            0\n",
       "2004-03-10 16:00:00            0\n",
       "2004-03-10 17:00:00            0\n",
       "2004-03-10 18:00:00            0\n",
       "2004-03-10 19:00:00            0\n",
       "2004-03-10 20:00:00            0\n",
       "2004-03-10 21:00:00            0\n",
       "2004-03-10 22:00:00            0\n",
       "2004-03-10 23:00:00            0\n",
       "2004-03-11 00:00:00            0"
      ]
     },
     "execution_count": 87,
     "metadata": {},
     "output_type": "execute_result"
    }
   ],
   "source": [
    "s_test = pd.read_csv('data/s_test.csv', sep=\",\", index_col='datetime')\n",
    "s_test.index = pd.to_datetime(s_test.index)\n",
    "s_test.index = s_test.index.values.astype('<M8[h]')\n",
    "s_test.head(25)"
   ]
  },
  {
   "cell_type": "code",
   "execution_count": 88,
   "metadata": {},
   "outputs": [
    {
     "name": "stdout",
     "output_type": "stream",
     "text": [
      "                     temperature\n",
      "2004-03-10 00:00:00            0\n",
      "2004-03-10 01:00:00            0\n",
      "2004-03-10 02:00:00            0\n",
      "2004-03-10 03:00:00            0\n",
      "2004-03-10 04:00:00            0\n",
      "2004-03-10 05:00:00            0\n",
      "2004-03-10 06:00:00            0\n",
      "2004-03-10 07:00:00            0\n",
      "2004-03-10 08:00:00            0\n",
      "2004-03-10 09:00:00            0\n",
      "2004-03-10 10:00:00            0\n",
      "2004-03-10 11:00:00            0\n",
      "2004-03-10 12:00:00            0\n",
      "2004-03-10 13:00:00            0\n",
      "2004-03-10 14:00:00            0\n",
      "2004-03-10 15:00:00            0\n",
      "2004-03-10 16:00:00            0\n",
      "2004-03-10 17:00:00            0\n",
      "2004-03-10 18:00:00            0\n",
      "2004-03-10 19:00:00            0\n",
      "2004-03-10 20:00:00            0\n",
      "2004-03-10 21:00:00            0\n",
      "2004-03-10 22:00:00            0\n",
      "2004-03-10 23:00:00            0\n",
      "2004-03-11 00:00:00            0\n",
      "2004-03-11 01:00:00            0\n"
     ]
    }
   ],
   "source": [
    "s_test = validate_series(s_test)\n",
    "print(s_test)"
   ]
  },
  {
   "cell_type": "code",
   "execution_count": 89,
   "metadata": {},
   "outputs": [
    {
     "data": {
      "text/plain": [
       "<matplotlib.axes._subplots.AxesSubplot at 0x1355242d0>"
      ]
     },
     "execution_count": 89,
     "metadata": {},
     "output_type": "execute_result"
    },
    {
     "data": {
      "image/png": "[encoded data removed]",
      "text/plain": [
       "<Figure size 1152x288 with 1 Axes>"
      ]
     },
     "metadata": {},
     "output_type": "display_data"
    }
   ],
   "source": [
    "anomalies_pred = seasonal_ad.detect(s_test)\n",
    "plot(s_test, anomaly_pred=anomalies_pred, ts_linewidth=1, ap_color='red', ap_marker_on_curve=True)"
   ]
  },
  {
   "cell_type": "code",
   "execution_count": null,
   "metadata": {},
   "outputs": [],
   "source": []
  }
 ],
 "metadata": {
  "kernelspec": {
   "display_name": "Python (py37)",
   "language": "python",
   "name": "py37"
  },
  "language_info": {
   "codemirror_mode": {
    "name": "ipython",
    "version": 3
   },
   "file_extension": ".py",
   "mimetype": "text/x-python",
   "name": "python",
   "nbconvert_exporter": "python",
   "pygments_lexer": "ipython3",
   "version": "3.7.5"
  },
  "toc": {
   "base_numbering": 1,
   "nav_menu": {
    "height": "262px",
    "width": "325px"
   },
   "number_sections": true,
   "sideBar": true,
   "skip_h1_title": false,
   "title_cell": "Table of Contents",
   "title_sidebar": "Contents",
   "toc_cell": false,
   "toc_position": {
    "height": "calc(100% - 180px)",
    "left": "10px",
    "top": "150px",
    "width": "255.188px"
   },
   "toc_section_display": true,
   "toc_window_display": false
  }
 },
 "nbformat": 4,
 "nbformat_minor": 2
}
