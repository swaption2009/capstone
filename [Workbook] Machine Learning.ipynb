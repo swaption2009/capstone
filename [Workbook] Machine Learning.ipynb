{
 "cells": [
  {
   "cell_type": "markdown",
   "metadata": {},
   "source": [
    "## Project Intro: Intel Lab Data"
   ]
  },
  {
   "cell_type": "markdown",
   "metadata": {},
   "source": [
    "This notebook contains information about data collected from 54 sensors deployed in the Intel Berkeley Research lab between February 28th and April 5th, 2004.\n",
    "\n",
    "`Mica2Dot` sensors with weather boards collected timestamped topology information, along with humidity, temperature, light and voltage values once every 31 seconds.\n",
    "\n",
    "Source: http://db.csail.mit.edu/labdata/labdata.html"
   ]
  },
  {
   "cell_type": "markdown",
   "metadata": {},
   "source": [
    "## Import Libraries"
   ]
  },
  {
   "cell_type": "code",
   "execution_count": 1,
   "metadata": {},
   "outputs": [],
   "source": [
    "%load_ext autoreload\n",
    "%autoreload 2"
   ]
  },
  {
   "cell_type": "code",
   "execution_count": 10,
   "metadata": {},
   "outputs": [],
   "source": [
    "import pandas as pd\n",
    "import numpy as np\n",
    "import matplotlib.pyplot as plt\n",
    "import pickle\n",
    "\n",
    "from sklearn.preprocessing import StandardScaler\n",
    "from sklearn import metrics\n",
    "from sklearn.model_selection import train_test_split\n",
    "from sklearn.linear_model import LogisticRegressionCV"
   ]
  },
  {
   "cell_type": "markdown",
   "metadata": {},
   "source": [
    "## Read from Parqueet file"
   ]
  },
  {
   "cell_type": "code",
   "execution_count": 3,
   "metadata": {},
   "outputs": [
    {
     "name": "stderr",
     "output_type": "stream",
     "text": [
      "/Users/rhoesada/anaconda/envs/py37/lib/python3.7/site-packages/pyarrow/pandas_compat.py:708: FutureWarning: .labels was deprecated in version 0.24.0. Use .codes instead.\n",
      "  labels = getattr(columns, 'labels', None) or [\n",
      "/Users/rhoesada/anaconda/envs/py37/lib/python3.7/site-packages/pyarrow/pandas_compat.py:735: FutureWarning: the 'labels' keyword is deprecated, use 'codes' instead\n",
      "  return pd.MultiIndex(levels=new_levels, labels=labels, names=columns.names)\n",
      "/Users/rhoesada/anaconda/envs/py37/lib/python3.7/site-packages/pyarrow/pandas_compat.py:752: FutureWarning: .labels was deprecated in version 0.24.0. Use .codes instead.\n",
      "  labels, = index.labels\n"
     ]
    },
    {
     "data": {
      "text/html": [
       "<div>\n",
       "<style scoped>\n",
       "    .dataframe tbody tr th:only-of-type {\n",
       "        vertical-align: middle;\n",
       "    }\n",
       "\n",
       "    .dataframe tbody tr th {\n",
       "        vertical-align: top;\n",
       "    }\n",
       "\n",
       "    .dataframe thead th {\n",
       "        text-align: right;\n",
       "    }\n",
       "</style>\n",
       "<table border=\"1\" class=\"dataframe\">\n",
       "  <thead>\n",
       "    <tr style=\"text-align: right;\">\n",
       "      <th></th>\n",
       "      <th>temperature</th>\n",
       "      <th>humidity</th>\n",
       "      <th>light</th>\n",
       "      <th>voltage</th>\n",
       "      <th>datetime</th>\n",
       "      <th>x_coord</th>\n",
       "      <th>y_coord</th>\n",
       "      <th>year</th>\n",
       "      <th>month</th>\n",
       "      <th>mote_id</th>\n",
       "    </tr>\n",
       "  </thead>\n",
       "  <tbody>\n",
       "    <tr>\n",
       "      <th>1</th>\n",
       "      <td>19.9884</td>\n",
       "      <td>37.0933</td>\n",
       "      <td>45.08</td>\n",
       "      <td>2.69964</td>\n",
       "      <td>2004-02-28 00:59:16</td>\n",
       "      <td>21.5</td>\n",
       "      <td>23.0</td>\n",
       "      <td>2004</td>\n",
       "      <td>2</td>\n",
       "      <td>1.0</td>\n",
       "    </tr>\n",
       "    <tr>\n",
       "      <th>2</th>\n",
       "      <td>19.3024</td>\n",
       "      <td>38.4629</td>\n",
       "      <td>45.08</td>\n",
       "      <td>2.68742</td>\n",
       "      <td>2004-02-28 01:03:16</td>\n",
       "      <td>21.5</td>\n",
       "      <td>23.0</td>\n",
       "      <td>2004</td>\n",
       "      <td>2</td>\n",
       "      <td>1.0</td>\n",
       "    </tr>\n",
       "    <tr>\n",
       "      <th>3</th>\n",
       "      <td>19.1652</td>\n",
       "      <td>38.8039</td>\n",
       "      <td>45.08</td>\n",
       "      <td>2.68742</td>\n",
       "      <td>2004-02-28 01:06:16</td>\n",
       "      <td>21.5</td>\n",
       "      <td>23.0</td>\n",
       "      <td>2004</td>\n",
       "      <td>2</td>\n",
       "      <td>1.0</td>\n",
       "    </tr>\n",
       "    <tr>\n",
       "      <th>4</th>\n",
       "      <td>19.1750</td>\n",
       "      <td>38.8379</td>\n",
       "      <td>45.08</td>\n",
       "      <td>2.69964</td>\n",
       "      <td>2004-02-28 01:06:46</td>\n",
       "      <td>21.5</td>\n",
       "      <td>23.0</td>\n",
       "      <td>2004</td>\n",
       "      <td>2</td>\n",
       "      <td>1.0</td>\n",
       "    </tr>\n",
       "    <tr>\n",
       "      <th>5</th>\n",
       "      <td>19.1456</td>\n",
       "      <td>38.9401</td>\n",
       "      <td>45.08</td>\n",
       "      <td>2.68742</td>\n",
       "      <td>2004-02-28 01:08:45</td>\n",
       "      <td>21.5</td>\n",
       "      <td>23.0</td>\n",
       "      <td>2004</td>\n",
       "      <td>2</td>\n",
       "      <td>1.0</td>\n",
       "    </tr>\n",
       "  </tbody>\n",
       "</table>\n",
       "</div>"
      ],
      "text/plain": [
       "   temperature  humidity  light  voltage            datetime  x_coord  \\\n",
       "1      19.9884   37.0933  45.08  2.69964 2004-02-28 00:59:16     21.5   \n",
       "2      19.3024   38.4629  45.08  2.68742 2004-02-28 01:03:16     21.5   \n",
       "3      19.1652   38.8039  45.08  2.68742 2004-02-28 01:06:16     21.5   \n",
       "4      19.1750   38.8379  45.08  2.69964 2004-02-28 01:06:46     21.5   \n",
       "5      19.1456   38.9401  45.08  2.68742 2004-02-28 01:08:45     21.5   \n",
       "\n",
       "   y_coord  year month mote_id  \n",
       "1     23.0  2004     2     1.0  \n",
       "2     23.0  2004     2     1.0  \n",
       "3     23.0  2004     2     1.0  \n",
       "4     23.0  2004     2     1.0  \n",
       "5     23.0  2004     2     1.0  "
      ]
     },
     "execution_count": 3,
     "metadata": {},
     "output_type": "execute_result"
    }
   ],
   "source": [
    "sensor_signals = pd.read_parquet('output.parquet/')\n",
    "sensor_signals = sensor_signals[:10000]\n",
    "sensor_signals.head()"
   ]
  },
  {
   "cell_type": "code",
   "execution_count": 4,
   "metadata": {},
   "outputs": [
    {
     "data": {
      "text/html": [
       "<div>\n",
       "<style scoped>\n",
       "    .dataframe tbody tr th:only-of-type {\n",
       "        vertical-align: middle;\n",
       "    }\n",
       "\n",
       "    .dataframe tbody tr th {\n",
       "        vertical-align: top;\n",
       "    }\n",
       "\n",
       "    .dataframe thead th {\n",
       "        text-align: right;\n",
       "    }\n",
       "</style>\n",
       "<table border=\"1\" class=\"dataframe\">\n",
       "  <thead>\n",
       "    <tr style=\"text-align: right;\">\n",
       "      <th></th>\n",
       "      <th>temperature</th>\n",
       "      <th>humidity</th>\n",
       "      <th>light</th>\n",
       "      <th>voltage</th>\n",
       "      <th>year</th>\n",
       "      <th>month</th>\n",
       "      <th>mote_id</th>\n",
       "      <th>day</th>\n",
       "      <th>hour</th>\n",
       "      <th>minute</th>\n",
       "    </tr>\n",
       "  </thead>\n",
       "  <tbody>\n",
       "    <tr>\n",
       "      <th>1</th>\n",
       "      <td>19.9884</td>\n",
       "      <td>37.0933</td>\n",
       "      <td>45.08</td>\n",
       "      <td>2.69964</td>\n",
       "      <td>2004</td>\n",
       "      <td>2</td>\n",
       "      <td>1.0</td>\n",
       "      <td>28</td>\n",
       "      <td>0</td>\n",
       "      <td>59</td>\n",
       "    </tr>\n",
       "    <tr>\n",
       "      <th>2</th>\n",
       "      <td>19.3024</td>\n",
       "      <td>38.4629</td>\n",
       "      <td>45.08</td>\n",
       "      <td>2.68742</td>\n",
       "      <td>2004</td>\n",
       "      <td>2</td>\n",
       "      <td>1.0</td>\n",
       "      <td>28</td>\n",
       "      <td>1</td>\n",
       "      <td>3</td>\n",
       "    </tr>\n",
       "    <tr>\n",
       "      <th>3</th>\n",
       "      <td>19.1652</td>\n",
       "      <td>38.8039</td>\n",
       "      <td>45.08</td>\n",
       "      <td>2.68742</td>\n",
       "      <td>2004</td>\n",
       "      <td>2</td>\n",
       "      <td>1.0</td>\n",
       "      <td>28</td>\n",
       "      <td>1</td>\n",
       "      <td>6</td>\n",
       "    </tr>\n",
       "    <tr>\n",
       "      <th>4</th>\n",
       "      <td>19.1750</td>\n",
       "      <td>38.8379</td>\n",
       "      <td>45.08</td>\n",
       "      <td>2.69964</td>\n",
       "      <td>2004</td>\n",
       "      <td>2</td>\n",
       "      <td>1.0</td>\n",
       "      <td>28</td>\n",
       "      <td>1</td>\n",
       "      <td>6</td>\n",
       "    </tr>\n",
       "    <tr>\n",
       "      <th>5</th>\n",
       "      <td>19.1456</td>\n",
       "      <td>38.9401</td>\n",
       "      <td>45.08</td>\n",
       "      <td>2.68742</td>\n",
       "      <td>2004</td>\n",
       "      <td>2</td>\n",
       "      <td>1.0</td>\n",
       "      <td>28</td>\n",
       "      <td>1</td>\n",
       "      <td>8</td>\n",
       "    </tr>\n",
       "  </tbody>\n",
       "</table>\n",
       "</div>"
      ],
      "text/plain": [
       "   temperature  humidity  light  voltage  year month mote_id  day  hour  \\\n",
       "1      19.9884   37.0933  45.08  2.69964  2004     2     1.0   28     0   \n",
       "2      19.3024   38.4629  45.08  2.68742  2004     2     1.0   28     1   \n",
       "3      19.1652   38.8039  45.08  2.68742  2004     2     1.0   28     1   \n",
       "4      19.1750   38.8379  45.08  2.69964  2004     2     1.0   28     1   \n",
       "5      19.1456   38.9401  45.08  2.68742  2004     2     1.0   28     1   \n",
       "\n",
       "   minute  \n",
       "1      59  \n",
       "2       3  \n",
       "3       6  \n",
       "4       6  \n",
       "5       8  "
      ]
     },
     "execution_count": 4,
     "metadata": {},
     "output_type": "execute_result"
    }
   ],
   "source": [
    "sensor_signals['day'] = sensor_signals['datetime'].apply(lambda x: x.day)\n",
    "sensor_signals['hour'] = sensor_signals['datetime'].apply(lambda x: x.hour)\n",
    "sensor_signals['minute'] = sensor_signals['datetime'].apply(lambda x: x.minute)\n",
    "sensor_signals.drop(['datetime', 'x_coord', 'y_coord'], axis=1, inplace=True)\n",
    "sensor_signals.head()"
   ]
  },
  {
   "cell_type": "markdown",
   "metadata": {},
   "source": [
    "## Machine Learning"
   ]
  },
  {
   "cell_type": "code",
   "execution_count": 5,
   "metadata": {},
   "outputs": [],
   "source": [
    "X = sensor_signals.drop('mote_id', axis=1)\n",
    "Y = sensor_signals['mote_id']"
   ]
  },
  {
   "cell_type": "code",
   "execution_count": 6,
   "metadata": {},
   "outputs": [
    {
     "data": {
      "text/html": [
       "<div>\n",
       "<style scoped>\n",
       "    .dataframe tbody tr th:only-of-type {\n",
       "        vertical-align: middle;\n",
       "    }\n",
       "\n",
       "    .dataframe tbody tr th {\n",
       "        vertical-align: top;\n",
       "    }\n",
       "\n",
       "    .dataframe thead th {\n",
       "        text-align: right;\n",
       "    }\n",
       "</style>\n",
       "<table border=\"1\" class=\"dataframe\">\n",
       "  <thead>\n",
       "    <tr style=\"text-align: right;\">\n",
       "      <th></th>\n",
       "      <th>temperature</th>\n",
       "      <th>humidity</th>\n",
       "      <th>light</th>\n",
       "      <th>voltage</th>\n",
       "      <th>year</th>\n",
       "      <th>month</th>\n",
       "      <th>day</th>\n",
       "      <th>hour</th>\n",
       "      <th>minute</th>\n",
       "    </tr>\n",
       "  </thead>\n",
       "  <tbody>\n",
       "    <tr>\n",
       "      <th>1</th>\n",
       "      <td>0.384065</td>\n",
       "      <td>-1.141499</td>\n",
       "      <td>-0.664148</td>\n",
       "      <td>0.779469</td>\n",
       "      <td>2004</td>\n",
       "      <td>2</td>\n",
       "      <td>28</td>\n",
       "      <td>0</td>\n",
       "      <td>59</td>\n",
       "    </tr>\n",
       "    <tr>\n",
       "      <th>2</th>\n",
       "      <td>0.002411</td>\n",
       "      <td>-0.747044</td>\n",
       "      <td>-0.664148</td>\n",
       "      <td>0.534649</td>\n",
       "      <td>2004</td>\n",
       "      <td>2</td>\n",
       "      <td>28</td>\n",
       "      <td>1</td>\n",
       "      <td>3</td>\n",
       "    </tr>\n",
       "    <tr>\n",
       "      <th>3</th>\n",
       "      <td>-0.073920</td>\n",
       "      <td>-0.648834</td>\n",
       "      <td>-0.664148</td>\n",
       "      <td>0.534649</td>\n",
       "      <td>2004</td>\n",
       "      <td>2</td>\n",
       "      <td>28</td>\n",
       "      <td>1</td>\n",
       "      <td>6</td>\n",
       "    </tr>\n",
       "    <tr>\n",
       "      <th>4</th>\n",
       "      <td>-0.068468</td>\n",
       "      <td>-0.639041</td>\n",
       "      <td>-0.664148</td>\n",
       "      <td>0.779469</td>\n",
       "      <td>2004</td>\n",
       "      <td>2</td>\n",
       "      <td>28</td>\n",
       "      <td>1</td>\n",
       "      <td>6</td>\n",
       "    </tr>\n",
       "    <tr>\n",
       "      <th>5</th>\n",
       "      <td>-0.084824</td>\n",
       "      <td>-0.609607</td>\n",
       "      <td>-0.664148</td>\n",
       "      <td>0.534649</td>\n",
       "      <td>2004</td>\n",
       "      <td>2</td>\n",
       "      <td>28</td>\n",
       "      <td>1</td>\n",
       "      <td>8</td>\n",
       "    </tr>\n",
       "  </tbody>\n",
       "</table>\n",
       "</div>"
      ],
      "text/plain": [
       "   temperature  humidity     light   voltage  year month  day  hour  minute\n",
       "1     0.384065 -1.141499 -0.664148  0.779469  2004     2   28     0      59\n",
       "2     0.002411 -0.747044 -0.664148  0.534649  2004     2   28     1       3\n",
       "3    -0.073920 -0.648834 -0.664148  0.534649  2004     2   28     1       6\n",
       "4    -0.068468 -0.639041 -0.664148  0.779469  2004     2   28     1       6\n",
       "5    -0.084824 -0.609607 -0.664148  0.534649  2004     2   28     1       8"
      ]
     },
     "execution_count": 6,
     "metadata": {},
     "output_type": "execute_result"
    }
   ],
   "source": [
    "scaler = StandardScaler()\n",
    "X[['temperature', 'humidity', 'light', 'voltage']] = scaler.fit_transform(X[['temperature', 'humidity', 'light', 'voltage']])\n",
    "X.head()"
   ]
  },
  {
   "cell_type": "code",
   "execution_count": 7,
   "metadata": {},
   "outputs": [],
   "source": [
    "X_train, X_test, Y_train, Y_test = train_test_split(X, Y, test_size=0.33, random_state=122)"
   ]
  },
  {
   "cell_type": "code",
   "execution_count": 8,
   "metadata": {},
   "outputs": [
    {
     "name": "stderr",
     "output_type": "stream",
     "text": [
      "/Users/rhoesada/anaconda/envs/py37/lib/python3.7/site-packages/sklearn/linear_model/logistic.py:469: FutureWarning: Default multi_class will be changed to 'auto' in 0.22. Specify the multi_class option to silence this warning.\n",
      "  \"this warning.\", FutureWarning)\n",
      "[Parallel(n_jobs=-1)]: Using backend LokyBackend with 8 concurrent workers.\n",
      "[Parallel(n_jobs=-1)]: Done  30 out of  30 | elapsed:    4.4s finished\n"
     ]
    },
    {
     "data": {
      "text/plain": [
       "LogisticRegressionCV(Cs=10, class_weight=None, cv=10, dual=False,\n",
       "                     fit_intercept=True, intercept_scaling=1.0, l1_ratios=None,\n",
       "                     max_iter=100, multi_class='warn', n_jobs=-1, penalty='l2',\n",
       "                     random_state=None, refit=True, scoring='accuracy',\n",
       "                     solver='lbfgs', tol=0.0001, verbose=1)"
      ]
     },
     "execution_count": 8,
     "metadata": {},
     "output_type": "execute_result"
    }
   ],
   "source": [
    "model = LogisticRegressionCV(cv=10,verbose=1, n_jobs=-1, scoring='accuracy', solver='lbfgs', penalty='l2')\n",
    "model.fit(X_train, Y_train)"
   ]
  },
  {
   "cell_type": "code",
   "execution_count": 9,
   "metadata": {},
   "outputs": [
    {
     "name": "stdout",
     "output_type": "stream",
     "text": [
      "Misclassified samples: 123\n",
      "Accuracy: 0.96\n"
     ]
    }
   ],
   "source": [
    "# use the model to make predictions with the test data\n",
    "Y_pred = model.predict(X_test)\n",
    "# how did our model perform?\n",
    "count_misclassified = (Y_test != Y_pred).sum()\n",
    "print('Misclassified samples: {}'.format(count_misclassified))\n",
    "accuracy = metrics.accuracy_score(Y_test, Y_pred)\n",
    "print('Accuracy: {:.2f}'.format(accuracy))"
   ]
  },
  {
   "cell_type": "code",
   "execution_count": 11,
   "metadata": {},
   "outputs": [],
   "source": [
    "filename = 'finalized_model.sav'\n",
    "pickle.dump(model, open(filename, 'wb'))"
   ]
  },
  {
   "cell_type": "code",
   "execution_count": null,
   "metadata": {},
   "outputs": [],
   "source": []
  }
 ],
 "metadata": {
  "kernelspec": {
   "display_name": "Python (py37)",
   "language": "python",
   "name": "py37"
  },
  "language_info": {
   "codemirror_mode": {
    "name": "ipython",
    "version": 3
   },
   "file_extension": ".py",
   "mimetype": "text/x-python",
   "name": "python",
   "nbconvert_exporter": "python",
   "pygments_lexer": "ipython3",
   "version": "3.7.5"
  },
  "toc": {
   "base_numbering": 1,
   "nav_menu": {
    "height": "228px",
    "width": "332px"
   },
   "number_sections": true,
   "sideBar": true,
   "skip_h1_title": false,
   "title_cell": "Table of Contents",
   "title_sidebar": "Contents",
   "toc_cell": false,
   "toc_position": {},
   "toc_section_display": true,
   "toc_window_display": false
  }
 },
 "nbformat": 4,
 "nbformat_minor": 2
}
